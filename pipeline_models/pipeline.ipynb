{
 "cells": [
  {
   "cell_type": "code",
   "execution_count": 9,
   "metadata": {},
   "outputs": [],
   "source": [
    "###########\n",
    "# IMPORTS #\n",
    "###########\n",
    "import tensorflow as tf\n",
    "\n",
    "#Abstractive Summarizer Imports\n",
    "import datasets\n",
    "from transformers import AutoTokenizer, AutoModelForSeq2SeqLM\n",
    "from transformers import BertTokenizer, EncoderDecoderModel\n",
    "\n",
    "#Extractive Summarizer Imports\n",
    "from tqdm import tqdm_pandas\n",
    "from summarizer import Summarizer\n",
    "\n",
    "#Cosine Similarity Imports\n",
    "from sklearn.feature_extraction.text import TfidfVectorizer\n",
    "from sklearn.metrics.pairwise import linear_kernel\n",
    "\n",
    "#Utility Imports\n",
    "from functools import reduce\n",
    "from operator import add\n",
    "import pandas as pd\n",
    "import numpy as np\n",
    "\n",
    "#Dataset Library Imports\n",
    "from sklearn.datasets import fetch_20newsgroups"
   ]
  },
  {
   "cell_type": "code",
   "execution_count": 10,
   "metadata": {},
   "outputs": [],
   "source": [
    "%%capture\n",
    "###############\n",
    "# GLOBAL VARS #\n",
    "###############\n",
    "\n",
    "vectorizer = TfidfVectorizer()\n",
    "tokenizer = AutoTokenizer.from_pretrained(\"patrickvonplaten/bert2bert_cnn_daily_mail\")  \n",
    "abstractive_summarizer_model = AutoModelForSeq2SeqLM.from_pretrained(\"patrickvonplaten/bert2bert_cnn_daily_mail\")\n",
    "extractive_summarizer_model = Summarizer()"
   ]
  },
  {
   "cell_type": "code",
   "execution_count": 11,
   "metadata": {},
   "outputs": [
    {
     "name": "stderr",
     "output_type": "stream",
     "text": [
      "Reusing dataset cnn_dailymail (/home/jupyter/.cache/huggingface/datasets/cnn_dailymail/3.0.0/3.0.0/0128610a44e10f25b4af6689441c72af86205282d26399642f7db38fa7535602)\n"
     ]
    }
   ],
   "source": [
    "########\n",
    "# DATA #\n",
    "########\n",
    "\n",
    "#CNN Dailymail dataset, initially used for testing summarizers\n",
    "test_data = datasets.load_dataset(\"cnn_dailymail\", \"3.0.0\", split=\"test\")\n",
    "twenty_news_dataset = fetch_20newsgroups()\n",
    "\n",
    "#Toy data for testing the pipeline\n",
    "covid_test_data = pd.read_csv(\"../nyt_data_collection/toy_data/fp_covid_articles.csv\")\n",
    "golf_test_data = pd.read_csv(\"../nyt_data_collection/toy_data/golf_articles.csv\")"
   ]
  },
  {
   "cell_type": "code",
   "execution_count": 12,
   "metadata": {},
   "outputs": [],
   "source": [
    "####################\n",
    "# HELPER FUNCTIONS #\n",
    "####################\n",
    "\n",
    "# MISC Helpers\n",
    "divString = lambda size, char = \"#\": reduce(add, [char for i in range(size)])\n",
    "flatten = lambda lst: [i for sublst in lst for i in sublst]\n",
    "\n",
    "\n",
    "#Batch Summary Generation and Batch Metrics\n",
    "def generate_summary(batch):\n",
    "    \"\"\"This function computes a summary for a given article from the Dataset object\n",
    "    batch\n",
    "    Params:\n",
    "    batch: an article from the given Dataset object.\"\"\"\n",
    "    # Tokenizer will automatically set [BOS] <text> [EOS]\n",
    "    # cut off at BERT max length 512\n",
    "    inputs = tokenizer(batch[\"article\"], padding=\"max_length\", truncation=True, max_length=512, return_tensors=\"pt\")\n",
    "    input_ids = inputs.input_ids\n",
    "    attention_mask = inputs.attention_mask\n",
    "    outputs = model.generate(input_ids, attention_mask=attention_mask)\n",
    "    # all special tokens including will be removed\n",
    "    output_str = tokenizer.batch_decode(outputs, skip_special_tokens=True)\n",
    "    batch[\"pred\"] = output_str\n",
    "    return batch\n",
    "\n",
    "\n",
    "def compute_metrics(batch, batch_size=16, metric_name=\"rouge\"):\n",
    "    \"\"\"This function computes the rouge or bleu scores for predicted summaries\n",
    "    Params:\n",
    "    batch: A Dataset object which contains the articles at the specified indices\n",
    "    Use the select method for this function call. \n",
    "    Example format: Dataset.select([list of indices to select from the original dataset])\n",
    "    metric_name: The prefered evaluation metric to use\"\"\"\n",
    "    \n",
    "    metric = datasets.load_metric(metric_name)\n",
    "    results = batch.map(generate_summary, batched=True, batch_size=batch_size, remove_columns=[\"article\"])\n",
    "    summary_pred = results[\"pred\"]\n",
    "    label_ref = results[\"highlights\"]\n",
    "    if metric_name == \"rouge\":\n",
    "        output = metric.compute(predictions=summary_pred, references=label_ref, rouge_types=[\"rouge2\"])[\"rouge2\"].mid\n",
    "        print(\"\\n\" + \"ROUGE SCORE:\")\n",
    "        return output\n",
    "    else:\n",
    "        # Else compute bleu score with metric name \"sacrebleu\"\n",
    "        all_bleu_scores = []\n",
    "        for i in range(len(batch)):\n",
    "            output = metric.compute(predictions= [summary_pred[i]], references= [[label_ref[i]]])\n",
    "            all_bleu_scores.append(output)\n",
    "            print(\"\\n\\n\")\n",
    "            print(divString(100))\n",
    "            print(\"\\n\\n\" + \"Summary prediction: \" + \"\\n\\n\", summary_pred[i])\n",
    "            print(\"\\n\\n\" + \"Reference Label: \" + \"\\n\\n\", label_ref[i])\n",
    "            print(\"\\n\\n\" + \"BLEU SCORE:\" + \"\\n\\n\", output)\n",
    "            print(\"\\n\")\n",
    "        return all_bleu_scores\n",
    "    \n",
    "\n",
    "#Raw Text Summarization\n",
    "def generate_abstractive_summary(raw_string, model = abstractive_summarizer_model):\n",
    "    \"\"\"This function produces an abstractive summary for a given article\"\n",
    "    Params:\n",
    "    raw_string: an article string.\n",
    "    model: An abstractive summarizer model\"\"\"\n",
    "    # Tokenizer will automatically set [BOS] <text> [EOS]\n",
    "    # cut off at BERT max length 512\n",
    "    inputs = tokenizer(raw_string, padding=\"max_length\", truncation=True, max_length=512, return_tensors=\"pt\")\n",
    "    input_ids = inputs.input_ids\n",
    "    attention_mask = inputs.attention_mask\n",
    "    outputs = model.generate(input_ids, attention_mask=attention_mask)\n",
    "    # all special tokens including will be removed\n",
    "    output_str = tokenizer.batch_decode(outputs, skip_special_tokens=True)\n",
    "    return output_str[0]\n",
    "\n",
    "\n",
    "def generate_extractive_summary(raw_string, model = extractive_summarizer_model, min_summary_length = 50):\n",
    "    \"\"\"This function produces an extractive summary for a given article\"\n",
    "    Params:\n",
    "    raw_string: an article string.\n",
    "    model: An extractive summarizer model\"\"\"\n",
    "    output_str = model(raw_string, min_length = min_summary_length)\n",
    "    return output_str\n",
    "    \n",
    "    \n",
    "#Search and Subset Dataset\n",
    "def search_and_subset_data(df, keyword, column = \"first_paragraph\"):\n",
    "    \"\"\"\n",
    "    This function takes in a dataframe, keyword to search, and an optional column to search through and returns a\n",
    "    subset of the data as a pandas dataframe, with entries that contain the searched keyword.\n",
    "    Params:\n",
    "    df: Dataframe\n",
    "    keyword: A keyword to search\n",
    "    column: Optional that takes either 'first_paragraph' or 'keywords'\n",
    "    \"\"\"\n",
    "    df = df.sort_values(by='date', ascending = False).reset_index().drop(\"index\", axis = 1) # Ordering all documents chronologically so that indices don't need reodered when combining similar documents\n",
    "    df = df.dropna(subset=[column])\n",
    "    subset = df[df[column].str.lower().str.contains(keyword.strip().lower())]\n",
    "    return subset\n",
    "\n",
    "\n",
    "def select_random_document(df):\n",
    "    \"\"\"\n",
    "    This function selects a single random row from a dataframe. This is used as a default for initial document selection at the beginning of the pipeline.\n",
    "    df: A pandas dataframe\n",
    "    \"\"\"\n",
    "    return df.sample()\n",
    "\n",
    "\n",
    "\n",
    "# Similarity Clustering and Aggregate Document Synthesis\n",
    "def compute_cosine_similarities(document, corpus, vectorizer = vectorizer):\n",
    "    \"\"\"\n",
    "    This function computes the cosine similarity between a document and a specified corpus of documents.\n",
    "    document: A string of text.\n",
    "    corpus: An array of documents.\n",
    "    vectorizer: A TfidfVectorizer() object. (Default: initialized in the constants cell)\n",
    "    \"\"\"\n",
    "    vectorized_corpus = vectorizer.fit_transform(corpus)\n",
    "    vectorized_document = vectorizer.transform([document])\n",
    "    return linear_kernel(vectorized_document, vectorized_corpus).flatten()\n",
    "\n",
    "\n",
    "def get_related_docs_indices(cos_similarities_array, n_docs=5):\n",
    "    \"\"\"\n",
    "    This function returns the document indices with the highest cosine similarity.\n",
    "    cos_similarities_array: An array of the computed cosine similarities for the whole corpus.\n",
    "    n_docs: The number of highest scoring documents to return. (e.g. n_docs=5 returns the top 5 highest scoring documents)\n",
    "    \"\"\"\n",
    "    cos_similarities_array = np.array([i for i in cos_similarities_array if i < 0.999999999]) # This eliminates the case where the most similar document is the document itself, which has a similarity of 1.0\n",
    "    return sorted(cos_similarities_array.argsort()[:-(n_docs + 1):-1])\n",
    "    \n",
    "\n",
    "def get_top_similarities(cos_similarities_array, n_docs=5):\n",
    "    \"\"\"\n",
    "    This function returns the highest document cosine similarity scores.\n",
    "    cos_similarities_array: An array of the computed cosine similarities for the whole corpus.\n",
    "    n_docs: The number of highest cosine scores to return. (e.g. n_docs=5 returns the top 5 highest cosine similarity scores)\n",
    "    \"\"\"\n",
    "    related_indices = get_related_docs_indices(cos_similarities_array, n_docs)\n",
    "    return cos_similarities_array[related_indices]\n",
    "\n",
    "\n",
    "def concatenate_related_docs(corpus, related_docs_indices):\n",
    "    docs = [corpus[i] for i in related_docs_indices]\n",
    "    return \" \".join(docs)\n",
    "    \n",
    "\n",
    "# Display Functions\n",
    "def show_related_docs(document, corpus, related_docs_indices):\n",
    "    \"\"\"\n",
    "    This function displays the seed document, selected similar documents, and the concatenated aggregate of the similar documents.\n",
    "    \"\"\"\n",
    "    aggregate_doc = concatenate_related_docs(corpus, related_docs_indices)\n",
    "    print(\"\\n\" + \"SELECTED DOCUMENT: \" + \"\\n\")\n",
    "    print(document)\n",
    "    print(\"\\n\")\n",
    "    print(divString(100))\n",
    "    print(\"\\n\")\n",
    "    print(\"SIMILAR DOCUMENTS: \" + \"\\n\")\n",
    "    for i in related_docs_indices:\n",
    "        print(corpus[i], \"\\n\")\n",
    "        print(divString(100, char = \"~\") + \"\\n\")\n",
    "    print(divString(100))\n",
    "    print(\"\\n\")\n",
    "    print(\"AGGREGATE DOCUMENT: \" + \"\\n\")\n",
    "    print(aggregate_doc + \"\\n\")\n",
    "    print(divString(100))\n",
    "\n",
    "\n",
    "#Pipeline Iteration\n",
    "def iterate_pipeline(initial_document, corpus, num_iter = 5, aggregate_doc_variant = \"abstractive_secondary\"):\n",
    "    \"\"\"\n",
    "    This function begins with an initial document. From there the initial document is clustered with similar documents, \n",
    "    \"\"\"\n",
    "    document = initial_document\n",
    "    for i in range(num_iter):\n",
    "        cosine_similarities = compute_cosine_similarities(document, corpus)\n",
    "        related_docs_indices = get_related_docs_indices(cosine_similarities)\n",
    "        aggregate_document = concatenate_related_docs(corpus, related_docs_indices)\n",
    "        if aggregate_doc_variant == \"abstractive_primary\":\n",
    "            document = generate_abstractive_summary(aggregate_document, model = abstractive_summarizer_model)\n",
    "        if aggregate_doc_variant == \"abstractive_secondary\":\n",
    "            extractive_summary_primary = generate_extractive_summary(aggregate_document, min_summary_length=100)\n",
    "            document = generate_abstractive_summary(extractive_summary_primary, model = abstractive_summarizer_model)\n",
    "        if aggregate_doc_variant == \"extractive_primary\":\n",
    "            document = generate_extractive_summary(aggregate_document, min_summary_length=100)\n",
    "    print(\"Seed Document:\" + \"\\n\")\n",
    "    print(initial_document, \"\\n\")\n",
    "    print(divString(100) + \"\\n\")\n",
    "    print(\"Resulting Document:\" + \"\\n\")\n",
    "    print(document, \"\\n\")\n",
    "    return document"
   ]
  },
  {
   "cell_type": "code",
   "execution_count": 13,
   "metadata": {},
   "outputs": [],
   "source": [
    "# Helper Function Unit Tests\n",
    "\n",
    "# generate_summary(test_data[0])\n",
    "# compute_metrics(test_data.select([1,2]), metric_name = \"rouge\")\n",
    "# compute_metrics(test_data.select([1, 2]), metric_name = \"sacrebleu\")\n",
    "# generate_extractive_summary(test_data[0][\"article\"])\n",
    "# generate_extractive_summary(test_data[0][\"article\"], min_summary_length=10)"
   ]
  },
  {
   "cell_type": "markdown",
   "metadata": {},
   "source": [
    "### Baseline Algorithm Walkthrough\n",
    "1. Select a group/subset of articles (Order the subset chronologically so that the dataframe indices are chronological)\n",
    "2. Select a single article from the subset produced in step 1. (Baseline selection will be random)\n",
    "3. Perform cosine similarity between the single/selected article and the entire subset of articles produced in step 1.\n",
    "4. Select the top most similar indices and their associated articles.\n",
    "5. Summarize them."
   ]
  },
  {
   "cell_type": "code",
   "execution_count": 14,
   "metadata": {},
   "outputs": [],
   "source": [
    "############\n",
    "# PIPELINE #\n",
    "############\n",
    "\n",
    "# Document Selection\n",
    "search_results_df = search_and_subset_data(covid_test_data, \"death\") # a df containing entries that have death in the first paragraph\n",
    "corpus = search_results_df.first_paragraph.to_list()  # Converting to a list to vectorize the entries\n",
    "document = select_random_document(search_results_df).first_paragraph.values[0] # Selected a random row from the search results dataframe and extracted the first paragraph text to serve as our document\n",
    "\n",
    "# Similarity Clustering and Aggregate Document Synthesis\n",
    "cosine_similarities = compute_cosine_similarities(document, corpus) # The cosine similarities between the target document and all documents contained in the corpus\n",
    "related_docs_indices = get_related_docs_indices(cosine_similarities) # The indices of the most related docs\n",
    "aggregate_document = concatenate_related_docs(corpus, related_docs_indices) # The resulting document that is produced by concatenating all of the most similar documents\n",
    "\n",
    "# Summarization\n",
    "extractive_summary_primary = generate_extractive_summary(aggregate_document, min_summary_length=100)\n",
    "abstractive_summary_primary = generate_abstractive_summary(aggregate_document, model = abstractive_summarizer_model)\n",
    "abstractive_summary_secondary = generate_abstractive_summary(extractive_summary_primary, model = abstractive_summarizer_model) #Secondary summary in the hierarchy (i.e. a summary of a summary)"
   ]
  },
  {
   "cell_type": "code",
   "execution_count": 15,
   "metadata": {},
   "outputs": [
    {
     "name": "stdout",
     "output_type": "stream",
     "text": [
      "Top Cosine Similarity Scores:  [0.14345526 0.14457817 0.04430281 0.13621813 0.08780106]\n",
      "\n",
      "SELECTED DOCUMENT: \n",
      "\n",
      "The death of Herman Cain, attributed to the coronavirus, has made Republicans and President Trump face the reality of the pandemic as it hit closer to home than ever before, claiming a prominent conservative ally whose frequently dismissive attitude about taking the threat seriously reflected the hands-off inconsistency of party leaders.\n",
      "\n",
      "\n",
      "####################################################################################################\n",
      "\n",
      "\n",
      "SIMILAR DOCUMENTS: \n",
      "\n",
      "WASHINGTON — President Trump on Wednesday rejected the professional scientific conclusions of his own government about the prospects for a widely available coronavirus vaccine and the effectiveness of masks in curbing the spread of the virus as the death toll in the United States from the disease neared 200,000. \n",
      "\n",
      "~~~~~~~~~~~~~~~~~~~~~~~~~~~~~~~~~~~~~~~~~~~~~~~~~~~~~~~~~~~~~~~~~~~~~~~~~~~~~~~~~~~~~~~~~~~~~~~~~~~~\n",
      "\n",
      "President Trump on Wednesday rejected the professional scientific conclusions of his own government about the prospects for a widely available coronavirus vaccine and the effectiveness of masks in curbing the spread of the virus as the death toll in the United States from the disease neared 200,000. \n",
      "\n",
      "~~~~~~~~~~~~~~~~~~~~~~~~~~~~~~~~~~~~~~~~~~~~~~~~~~~~~~~~~~~~~~~~~~~~~~~~~~~~~~~~~~~~~~~~~~~~~~~~~~~~\n",
      "\n",
      "A school principal, a nurse, an actor. A Tony-winning playwright, a pediatric neurosurgeon, a jazz pianist. The coronavirus epidemic is an undiscriminating reaper. It has brought death to all walks of life, all economic backgrounds, all races and all the continents. \n",
      "\n",
      "~~~~~~~~~~~~~~~~~~~~~~~~~~~~~~~~~~~~~~~~~~~~~~~~~~~~~~~~~~~~~~~~~~~~~~~~~~~~~~~~~~~~~~~~~~~~~~~~~~~~\n",
      "\n",
      "WASHINGTON — The numbers the health officials showed President Trump were overwhelming. With the peak of the coronavirus pandemic still weeks away, he was told, hundreds of thousands of Americans could face death if the country reopened too soon. \n",
      "\n",
      "~~~~~~~~~~~~~~~~~~~~~~~~~~~~~~~~~~~~~~~~~~~~~~~~~~~~~~~~~~~~~~~~~~~~~~~~~~~~~~~~~~~~~~~~~~~~~~~~~~~~\n",
      "\n",
      "With the death toll from the coronavirus surpassing 3,000 worldwide, the ramifications have spread to nearly every aspect of life, with sports no exception. Events major and minor have been canceled, moved or postponed, as athletes, officials and spectators worry about the spread of the virus. \n",
      "\n",
      "~~~~~~~~~~~~~~~~~~~~~~~~~~~~~~~~~~~~~~~~~~~~~~~~~~~~~~~~~~~~~~~~~~~~~~~~~~~~~~~~~~~~~~~~~~~~~~~~~~~~\n",
      "\n",
      "####################################################################################################\n",
      "\n",
      "\n",
      "AGGREGATE DOCUMENT: \n",
      "\n",
      "WASHINGTON — President Trump on Wednesday rejected the professional scientific conclusions of his own government about the prospects for a widely available coronavirus vaccine and the effectiveness of masks in curbing the spread of the virus as the death toll in the United States from the disease neared 200,000. President Trump on Wednesday rejected the professional scientific conclusions of his own government about the prospects for a widely available coronavirus vaccine and the effectiveness of masks in curbing the spread of the virus as the death toll in the United States from the disease neared 200,000. A school principal, a nurse, an actor. A Tony-winning playwright, a pediatric neurosurgeon, a jazz pianist. The coronavirus epidemic is an undiscriminating reaper. It has brought death to all walks of life, all economic backgrounds, all races and all the continents. WASHINGTON — The numbers the health officials showed President Trump were overwhelming. With the peak of the coronavirus pandemic still weeks away, he was told, hundreds of thousands of Americans could face death if the country reopened too soon. With the death toll from the coronavirus surpassing 3,000 worldwide, the ramifications have spread to nearly every aspect of life, with sports no exception. Events major and minor have been canceled, moved or postponed, as athletes, officials and spectators worry about the spread of the virus.\n",
      "\n",
      "####################################################################################################\n",
      "\n",
      "SUMMARIZATION RESULTS\n",
      "\n",
      "####################################################################################################\n",
      "\n",
      "EXTRACTIVE SUMMARY PRIMARY:\n",
      " WASHINGTON — President Trump on Wednesday rejected the professional scientific conclusions of his own government about the prospects for a widely available coronavirus vaccine and the effectiveness of masks in curbing the spread of the virus as the death toll in the United States from the disease neared 200,000. President Trump on Wednesday rejected the professional scientific conclusions of his own government about the prospects for a widely available coronavirus vaccine and the effectiveness of masks in curbing the spread of the virus as the death toll in the United States from the disease neared 200,000.\n",
      "\n",
      "\n",
      "ABSTRACTIVE SUMMARY PRIMARY:\n",
      " president trump rejected the professional scientific conclusions of his own government about the prospects for a widely available coronavirus vaccine and the effectiveness of masks in curbing the spread of the virus as the death toll from the disease reached 200, 000. a school principal, a nurse, an actor and an actor were among those who could face death by lethal injection.\n",
      "\n",
      "\n",
      "ABSTRACTIVE SUMMARY SECONDARY:\n",
      " president trump rejected the professional scientific conclusions of his own government. the death toll in the u. s. from the disease reached 200, 000. president trump on wednesday rejected the pros'conclusions of the prospects for a widely available coronavirus vaccine and the effectiveness of masks in curbing the spread of the virus.\n",
      "####################################################################################################\n",
      "\n"
     ]
    }
   ],
   "source": [
    "print(\"Top Cosine Similarity Scores: \", get_top_similarities(cosine_similarities))\n",
    "show_related_docs(document, corpus, related_docs_indices)\n",
    "\n",
    "print(\"\\n\" + \"SUMMARIZATION RESULTS\" + \"\\n\")\n",
    "print(divString(100) + \"\\n\")\n",
    "print(\"EXTRACTIVE SUMMARY PRIMARY:\" + \"\\n\", extractive_summary_primary)\n",
    "print(\"\\n\")\n",
    "print(\"ABSTRACTIVE SUMMARY PRIMARY:\" + \"\\n\", abstractive_summary_primary)\n",
    "print(\"\\n\")\n",
    "print(\"ABSTRACTIVE SUMMARY SECONDARY:\" + \"\\n\", abstractive_summary_secondary)\n",
    "print(divString(100) + \"\\n\")"
   ]
  },
  {
   "cell_type": "code",
   "execution_count": 16,
   "metadata": {},
   "outputs": [
    {
     "name": "stdout",
     "output_type": "stream",
     "text": [
      "Seed Document:\n",
      "\n",
      "[Read more on Brazil’s Coronavirus cases and deaths.] \n",
      "\n",
      "####################################################################################################\n",
      "\n",
      "Resulting Document:\n",
      "\n",
      "the death toll in the u. s. has reached 200, 000. president trump rejected the professional findings of his own government. the public's interest in the case may make this one of the highest - profile trials in recent memory. the trial of derek chauvin will be a one - of - the - kind. \n",
      "\n"
     ]
    },
    {
     "data": {
      "text/plain": [
       "\"the death toll in the u. s. has reached 200, 000. president trump rejected the professional findings of his own government. the public's interest in the case may make this one of the highest - profile trials in recent memory. the trial of derek chauvin will be a one - of - the - kind.\""
      ]
     },
     "execution_count": 16,
     "metadata": {},
     "output_type": "execute_result"
    }
   ],
   "source": [
    "######################\n",
    "# ITERATIVE PIPELINE #\n",
    "######################\n",
    "\n",
    "# Initial Document Selection\n",
    "search_results_df = search_and_subset_data(covid_test_data, \"death\") # a df containing entries that have death in the first paragraph\n",
    "corpus = search_results_df.first_paragraph.to_list()  # Converting to a list to vectorize the entries\n",
    "initial_document = select_random_document(search_results_df).first_paragraph.values[0] # Selected a random row from the search results dataframe and extracted the first paragraph text to serve as our document\n",
    "\n",
    "# Pipeline Iteration\n",
    "iterate_pipeline(initial_document, corpus, num_iter = 5, aggregate_doc_variant = \"abstractive_secondary\")"
   ]
  },
  {
   "cell_type": "code",
   "execution_count": null,
   "metadata": {},
   "outputs": [],
   "source": []
  },
  {
   "cell_type": "markdown",
   "metadata": {},
   "source": [
    "# Scratch Code"
   ]
  },
  {
   "cell_type": "markdown",
   "metadata": {},
   "source": [
    "## Daphne Test"
   ]
  },
  {
   "cell_type": "markdown",
   "metadata": {},
   "source": [
    "- Try new iterative approach for the summarizations\n",
    "    - Top 5 to target, summarize, get top 5 to summary, summarize (iterate 5x) and "
   ]
  },
  {
   "cell_type": "code",
   "execution_count": 17,
   "metadata": {},
   "outputs": [],
   "source": [
    "full_data = pd.read_csv('../nyt_data_collection/dataset/full_nyt_dataset.csv')"
   ]
  },
  {
   "cell_type": "markdown",
   "metadata": {},
   "source": [
    "# Below is code written just to try out the difference between using the full data and the subsetted dataset (Not really important to what we are doing)"
   ]
  },
  {
   "cell_type": "markdown",
   "metadata": {},
   "source": [
    "## Using Full Data"
   ]
  },
  {
   "cell_type": "markdown",
   "metadata": {},
   "source": [
    "### Notes\n",
    "\n",
    "- Using Full Data Works much better than using presubset data"
   ]
  },
  {
   "cell_type": "code",
   "execution_count": 18,
   "metadata": {},
   "outputs": [
    {
     "data": {
      "text/html": [
       "<div>\n",
       "<style scoped>\n",
       "    .dataframe tbody tr th:only-of-type {\n",
       "        vertical-align: middle;\n",
       "    }\n",
       "\n",
       "    .dataframe tbody tr th {\n",
       "        vertical-align: top;\n",
       "    }\n",
       "\n",
       "    .dataframe thead th {\n",
       "        text-align: right;\n",
       "    }\n",
       "</style>\n",
       "<table border=\"1\" class=\"dataframe\">\n",
       "  <thead>\n",
       "    <tr style=\"text-align: right;\">\n",
       "      <th></th>\n",
       "      <th>headline</th>\n",
       "      <th>date</th>\n",
       "      <th>doc_type</th>\n",
       "      <th>material_type</th>\n",
       "      <th>section</th>\n",
       "      <th>abstract</th>\n",
       "      <th>first_paragraph</th>\n",
       "      <th>keywords</th>\n",
       "      <th>web_url</th>\n",
       "    </tr>\n",
       "  </thead>\n",
       "  <tbody>\n",
       "    <tr>\n",
       "      <th>0</th>\n",
       "      <td>Trump’s Book Club: A President Who Doesn’t Rea...</td>\n",
       "      <td>2018-12-01</td>\n",
       "      <td>article</td>\n",
       "      <td>News</td>\n",
       "      <td>NaN</td>\n",
       "      <td>President Trump, who is not a reader, has used...</td>\n",
       "      <td>WASHINGTON — President Trump, a leader who is ...</td>\n",
       "      <td>['Books and Literature', 'United States Politi...</td>\n",
       "      <td>https://www.nytimes.com/2018/11/30/us/politics...</td>\n",
       "    </tr>\n",
       "    <tr>\n",
       "      <th>1</th>\n",
       "      <td>Kareem Hunt Is Cut by the Chiefs After a Video...</td>\n",
       "      <td>2018-12-01</td>\n",
       "      <td>article</td>\n",
       "      <td>News</td>\n",
       "      <td>NaN</td>\n",
       "      <td>Hunt, a star running back, was also suspended ...</td>\n",
       "      <td>The Kansas City Chiefs cut their star running ...</td>\n",
       "      <td>['Football', 'Domestic Violence']</td>\n",
       "      <td>https://www.nytimes.com/2018/11/30/sports/kare...</td>\n",
       "    </tr>\n",
       "    <tr>\n",
       "      <th>2</th>\n",
       "      <td>Agency Pulls Back on Its Warning Against Talk ...</td>\n",
       "      <td>2018-12-01</td>\n",
       "      <td>article</td>\n",
       "      <td>News</td>\n",
       "      <td>NaN</td>\n",
       "      <td>Casual conversations about impeachment and inv...</td>\n",
       "      <td>WASHINGTON — An independent government agency,...</td>\n",
       "      <td>['Hatch Act (1939)']</td>\n",
       "      <td>https://www.nytimes.com/2018/11/30/us/politics...</td>\n",
       "    </tr>\n",
       "    <tr>\n",
       "      <th>3</th>\n",
       "      <td>A China Hawk Gains Prominence as Trump Confron...</td>\n",
       "      <td>2018-12-01</td>\n",
       "      <td>article</td>\n",
       "      <td>News</td>\n",
       "      <td>NaN</td>\n",
       "      <td>Michael Pillsbury, the president’s top outside...</td>\n",
       "      <td>WASHINGTON — Michael Pillsbury had just finish...</td>\n",
       "      <td>['United States International Relations', 'Uni...</td>\n",
       "      <td>https://www.nytimes.com/2018/11/30/us/politics...</td>\n",
       "    </tr>\n",
       "    <tr>\n",
       "      <th>4</th>\n",
       "      <td>Wilmer Flores Is a Met No More</td>\n",
       "      <td>2018-12-01</td>\n",
       "      <td>article</td>\n",
       "      <td>News</td>\n",
       "      <td>NaN</td>\n",
       "      <td>A fan favorite, Flores did not receive a contr...</td>\n",
       "      <td>The Mets parted ways with a fan favorite, Wilm...</td>\n",
       "      <td>['Baseball']</td>\n",
       "      <td>https://www.nytimes.com/2018/11/30/sports/wilm...</td>\n",
       "    </tr>\n",
       "  </tbody>\n",
       "</table>\n",
       "</div>"
      ],
      "text/plain": [
       "                                            headline        date doc_type  \\\n",
       "0  Trump’s Book Club: A President Who Doesn’t Rea...  2018-12-01  article   \n",
       "1  Kareem Hunt Is Cut by the Chiefs After a Video...  2018-12-01  article   \n",
       "2  Agency Pulls Back on Its Warning Against Talk ...  2018-12-01  article   \n",
       "3  A China Hawk Gains Prominence as Trump Confron...  2018-12-01  article   \n",
       "4                     Wilmer Flores Is a Met No More  2018-12-01  article   \n",
       "\n",
       "  material_type  section                                           abstract  \\\n",
       "0          News      NaN  President Trump, who is not a reader, has used...   \n",
       "1          News      NaN  Hunt, a star running back, was also suspended ...   \n",
       "2          News      NaN  Casual conversations about impeachment and inv...   \n",
       "3          News      NaN  Michael Pillsbury, the president’s top outside...   \n",
       "4          News      NaN  A fan favorite, Flores did not receive a contr...   \n",
       "\n",
       "                                     first_paragraph  \\\n",
       "0  WASHINGTON — President Trump, a leader who is ...   \n",
       "1  The Kansas City Chiefs cut their star running ...   \n",
       "2  WASHINGTON — An independent government agency,...   \n",
       "3  WASHINGTON — Michael Pillsbury had just finish...   \n",
       "4  The Mets parted ways with a fan favorite, Wilm...   \n",
       "\n",
       "                                            keywords  \\\n",
       "0  ['Books and Literature', 'United States Politi...   \n",
       "1                  ['Football', 'Domestic Violence']   \n",
       "2                               ['Hatch Act (1939)']   \n",
       "3  ['United States International Relations', 'Uni...   \n",
       "4                                       ['Baseball']   \n",
       "\n",
       "                                             web_url  \n",
       "0  https://www.nytimes.com/2018/11/30/us/politics...  \n",
       "1  https://www.nytimes.com/2018/11/30/sports/kare...  \n",
       "2  https://www.nytimes.com/2018/11/30/us/politics...  \n",
       "3  https://www.nytimes.com/2018/11/30/us/politics...  \n",
       "4  https://www.nytimes.com/2018/11/30/sports/wilm...  "
      ]
     },
     "execution_count": 18,
     "metadata": {},
     "output_type": "execute_result"
    }
   ],
   "source": [
    "full_data.head()"
   ]
  },
  {
   "cell_type": "code",
   "execution_count": 20,
   "metadata": {},
   "outputs": [
    {
     "data": {
      "text/html": [
       "<div>\n",
       "<style scoped>\n",
       "    .dataframe tbody tr th:only-of-type {\n",
       "        vertical-align: middle;\n",
       "    }\n",
       "\n",
       "    .dataframe tbody tr th {\n",
       "        vertical-align: top;\n",
       "    }\n",
       "\n",
       "    .dataframe thead th {\n",
       "        text-align: right;\n",
       "    }\n",
       "</style>\n",
       "<table border=\"1\" class=\"dataframe\">\n",
       "  <thead>\n",
       "    <tr style=\"text-align: right;\">\n",
       "      <th></th>\n",
       "      <th>headline</th>\n",
       "      <th>date</th>\n",
       "      <th>doc_type</th>\n",
       "      <th>material_type</th>\n",
       "      <th>section</th>\n",
       "      <th>abstract</th>\n",
       "      <th>first_paragraph</th>\n",
       "      <th>keywords</th>\n",
       "      <th>web_url</th>\n",
       "    </tr>\n",
       "  </thead>\n",
       "  <tbody>\n",
       "    <tr>\n",
       "      <th>1073</th>\n",
       "      <td>Sergio García, Leading the Players Championshi...</td>\n",
       "      <td>2021-03-12</td>\n",
       "      <td>article</td>\n",
       "      <td>News</td>\n",
       "      <td>NaN</td>\n",
       "      <td>García tested positive for the coronavirus jus...</td>\n",
       "      <td>PONTE VEDRA BEACH, Fla. — When Sergio García w...</td>\n",
       "      <td>['Players Championship (Golf)', 'Coronavirus (...</td>\n",
       "      <td>https://www.nytimes.com/2021/03/11/sports/golf...</td>\n",
       "    </tr>\n",
       "    <tr>\n",
       "      <th>1810</th>\n",
       "      <td>Arnold Palmer’s Legacy Hints at What Tiger Woo...</td>\n",
       "      <td>2021-03-05</td>\n",
       "      <td>article</td>\n",
       "      <td>News</td>\n",
       "      <td>NaN</td>\n",
       "      <td>The link between the two golf legends feels st...</td>\n",
       "      <td>ORLANDO, Fla. — In a fashion befitting someone...</td>\n",
       "      <td>['Golf', 'Arnold Palmer Invitational (Golf)']</td>\n",
       "      <td>https://www.nytimes.com/2021/03/04/sports/golf...</td>\n",
       "    </tr>\n",
       "    <tr>\n",
       "      <th>2682</th>\n",
       "      <td>Golf Without Tiger Woods? His Fellow Players C...</td>\n",
       "      <td>2021-02-25</td>\n",
       "      <td>article</td>\n",
       "      <td>News</td>\n",
       "      <td>NaN</td>\n",
       "      <td>Woods, 45, has been sidelined before as he rec...</td>\n",
       "      <td>BRADENTON, Fla. — As a golf prodigy growing up...</td>\n",
       "      <td>['Golf', 'PGA Championship', 'Masters Golf Tou...</td>\n",
       "      <td>https://www.nytimes.com/2021/02/24/sports/tige...</td>\n",
       "    </tr>\n",
       "    <tr>\n",
       "      <th>13321</th>\n",
       "      <td>Rory McIlroy Aims for Balance, and a Green Jacket</td>\n",
       "      <td>2020-11-14</td>\n",
       "      <td>article</td>\n",
       "      <td>News</td>\n",
       "      <td>NaN</td>\n",
       "      <td>McIlroy, still seeking a Masters win for a car...</td>\n",
       "      <td>Rory McIlroy watched the flight of his ball in...</td>\n",
       "      <td>['Golf', 'Masters Golf Tournament']</td>\n",
       "      <td>https://www.nytimes.com/2020/11/14/sports/golf...</td>\n",
       "    </tr>\n",
       "    <tr>\n",
       "      <th>20164</th>\n",
       "      <td>Matthew Wolff Leads Bryson DeChambeau at U.S. ...</td>\n",
       "      <td>2020-09-20</td>\n",
       "      <td>article</td>\n",
       "      <td>News</td>\n",
       "      <td>NaN</td>\n",
       "      <td>A fast start and some steady nerves gave Wolff...</td>\n",
       "      <td>MAMARONECK, N.Y. — In May, with most global sp...</td>\n",
       "      <td>['Golf', 'United States Open (Golf)']</td>\n",
       "      <td>https://www.nytimes.com/2020/09/19/sports/golf...</td>\n",
       "    </tr>\n",
       "  </tbody>\n",
       "</table>\n",
       "</div>"
      ],
      "text/plain": [
       "                                                headline        date doc_type  \\\n",
       "1073   Sergio García, Leading the Players Championshi...  2021-03-12  article   \n",
       "1810   Arnold Palmer’s Legacy Hints at What Tiger Woo...  2021-03-05  article   \n",
       "2682   Golf Without Tiger Woods? His Fellow Players C...  2021-02-25  article   \n",
       "13321  Rory McIlroy Aims for Balance, and a Green Jacket  2020-11-14  article   \n",
       "20164  Matthew Wolff Leads Bryson DeChambeau at U.S. ...  2020-09-20  article   \n",
       "\n",
       "      material_type  section  \\\n",
       "1073           News      NaN   \n",
       "1810           News      NaN   \n",
       "2682           News      NaN   \n",
       "13321          News      NaN   \n",
       "20164          News      NaN   \n",
       "\n",
       "                                                abstract  \\\n",
       "1073   García tested positive for the coronavirus jus...   \n",
       "1810   The link between the two golf legends feels st...   \n",
       "2682   Woods, 45, has been sidelined before as he rec...   \n",
       "13321  McIlroy, still seeking a Masters win for a car...   \n",
       "20164  A fast start and some steady nerves gave Wolff...   \n",
       "\n",
       "                                         first_paragraph  \\\n",
       "1073   PONTE VEDRA BEACH, Fla. — When Sergio García w...   \n",
       "1810   ORLANDO, Fla. — In a fashion befitting someone...   \n",
       "2682   BRADENTON, Fla. — As a golf prodigy growing up...   \n",
       "13321  Rory McIlroy watched the flight of his ball in...   \n",
       "20164  MAMARONECK, N.Y. — In May, with most global sp...   \n",
       "\n",
       "                                                keywords  \\\n",
       "1073   ['Players Championship (Golf)', 'Coronavirus (...   \n",
       "1810       ['Golf', 'Arnold Palmer Invitational (Golf)']   \n",
       "2682   ['Golf', 'PGA Championship', 'Masters Golf Tou...   \n",
       "13321                ['Golf', 'Masters Golf Tournament']   \n",
       "20164              ['Golf', 'United States Open (Golf)']   \n",
       "\n",
       "                                                 web_url  \n",
       "1073   https://www.nytimes.com/2021/03/11/sports/golf...  \n",
       "1810   https://www.nytimes.com/2021/03/04/sports/golf...  \n",
       "2682   https://www.nytimes.com/2021/02/24/sports/tige...  \n",
       "13321  https://www.nytimes.com/2020/11/14/sports/golf...  \n",
       "20164  https://www.nytimes.com/2020/09/19/sports/golf...  "
      ]
     },
     "execution_count": 20,
     "metadata": {},
     "output_type": "execute_result"
    }
   ],
   "source": [
    "# Document Selection\n",
    "search_results_df = search_and_subset_data(full_data, \"mcilroy\") # a df containing entries that have death in the first paragraph\n",
    "search_results_df.head()"
   ]
  },
  {
   "cell_type": "code",
   "execution_count": 21,
   "metadata": {},
   "outputs": [],
   "source": [
    "search_doc = search_results_df.first_paragraph.to_list()  # Converting to a list to vectorize the entries\n",
    "selected_doc = search_doc[4]"
   ]
  },
  {
   "cell_type": "code",
   "execution_count": 22,
   "metadata": {},
   "outputs": [],
   "source": [
    "full_corpus = full_data.first_paragraph.dropna().to_list()"
   ]
  },
  {
   "cell_type": "code",
   "execution_count": 23,
   "metadata": {},
   "outputs": [
    {
     "data": {
      "text/plain": [
       "array([0.01048547, 0.04569611, 0.02160506, 0.00879925, 0.02199285])"
      ]
     },
     "execution_count": 23,
     "metadata": {},
     "output_type": "execute_result"
    }
   ],
   "source": [
    "cosine_similarities = compute_cosine_similarities(selected_doc, full_corpus) # The cosine similarities between the target document and all documents contained in the corpus\n",
    "cosine_similarities[:5]"
   ]
  },
  {
   "cell_type": "code",
   "execution_count": 24,
   "metadata": {},
   "outputs": [
    {
     "data": {
      "text/plain": [
       "[7862, 22485, 79140, 137945, 172489]"
      ]
     },
     "execution_count": 24,
     "metadata": {},
     "output_type": "execute_result"
    }
   ],
   "source": [
    "related_docs_indices = get_related_docs_indices(cosine_similarities) # The indices of the most related docs\n",
    "related_docs_indices"
   ]
  },
  {
   "cell_type": "code",
   "execution_count": 25,
   "metadata": {},
   "outputs": [
    {
     "data": {
      "text/plain": [
       "'Rory McIlroy stroked the clinching shot in Sunday’s uber-quirky charity golf match — the first televised competitive men’s golf in more than two months — but it was Dustin Johnson, McIlroy’s teammate in the event, who won the day. The PGA Tour’s Memorial Tournament, scheduled next week in central Ohio, had hoped to pave the way for spectators to return to golf events during the coronavirus pandemic, and in turn perhaps provide a blueprint for how fans could safely attend other major American sports competitions. HOUSTON — The PGA Tour does not have a 72-hole stroke play event this week, and several weekend college football games, including the marquee matchup between Michigan and Ohio State, have been canceled or postponed because of the coronavirus, leaving the best female golfers in the world well positioned to fill the TV viewing void. SPRINGFIELD, N.J. — It was on the eve of this month’s British Open that the world’s top four ranked golfers — Jason Day, Dustin Johnson, Jordan Spieth and Rory McIlroy — were compared to the Beatles, the original Fab Four. ERIN, Wis. — Rickie Fowler has been here before. Has he ever. And he doesn’t need to be reminded.'"
      ]
     },
     "execution_count": 25,
     "metadata": {},
     "output_type": "execute_result"
    }
   ],
   "source": [
    "aggregate_document = concatenate_related_docs(full_corpus, related_docs_indices) # The resulting document that is produced by concatenating all of the most similar documents\n",
    "aggregate_document"
   ]
  },
  {
   "cell_type": "code",
   "execution_count": 26,
   "metadata": {},
   "outputs": [
    {
     "data": {
      "text/plain": [
       "'Rory McIlroy stroked the clinching shot in Sunday’s uber-quirky charity golf match — the first televised competitive men’s golf in more than two months — but it was Dustin Johnson, McIlroy’s teammate in the event, who won the day. The PGA Tour’s Memorial Tournament, scheduled next week in central Ohio, had hoped to pave the way for spectators to return to golf events during the coronavirus pandemic, and in turn perhaps provide a blueprint for how fans could safely attend other major American sports competitions.'"
      ]
     },
     "execution_count": 26,
     "metadata": {},
     "output_type": "execute_result"
    }
   ],
   "source": [
    "extractive_summary_primary = generate_extractive_summary(aggregate_document, min_summary_length=100)\n",
    "extractive_summary_primary"
   ]
  },
  {
   "cell_type": "code",
   "execution_count": 27,
   "metadata": {},
   "outputs": [
    {
     "data": {
      "text/plain": [
       "\"rory mcilroy beat dustin johnson, dustin johnson and jordan spieth in sunday's charity match. the pga tour's memorial tournament had hoped to pave the way for spectators to return to golf events during the coronavirus pandemic. it was the first televised men's golf in more than two months.\""
      ]
     },
     "execution_count": 27,
     "metadata": {},
     "output_type": "execute_result"
    }
   ],
   "source": [
    "abstractive_summary_primary = generate_abstractive_summary(aggregate_document, model = abstractive_summarizer_model)\n",
    "abstractive_summary_primary"
   ]
  },
  {
   "cell_type": "code",
   "execution_count": 28,
   "metadata": {},
   "outputs": [
    {
     "data": {
      "text/plain": [
       "\"rory mcilroy beat dustin johnson in sunday's charity golf match. the pga tour's memorial tournament had hoped to pave the way for spectators to return to golf events during the coronavirus pandemic. the event was the first televised men's golf in more than two months.\""
      ]
     },
     "execution_count": 28,
     "metadata": {},
     "output_type": "execute_result"
    }
   ],
   "source": [
    "abstractive_summary_secondary = generate_abstractive_summary(extractive_summary_primary, model = abstractive_summarizer_model) #Secondary summary in the hierarchy (i.e. a summary of a summary)\n",
    "abstractive_summary_secondary"
   ]
  },
  {
   "cell_type": "markdown",
   "metadata": {},
   "source": [
    "## Using Subset Data"
   ]
  },
  {
   "cell_type": "code",
   "execution_count": 29,
   "metadata": {},
   "outputs": [
    {
     "data": {
      "text/plain": [
       "'Rory McIlroy stroked the clinching shot in Sunday’s uber-quirky charity golf match — the first televised competitive men’s golf in more than two months — but it was Dustin Johnson, McIlroy’s teammate in the event, who won the day. The PGA Tour’s Memorial Tournament, scheduled next week in central Ohio, had hoped to pave the way for spectators to return to golf events during the coronavirus pandemic, and in turn perhaps provide a blueprint for how fans could safely attend other major American sports competitions.'"
      ]
     },
     "execution_count": 29,
     "metadata": {},
     "output_type": "execute_result"
    }
   ],
   "source": [
    "# Summarization\n",
    "extractive_summary_primary = generate_extractive_summary(aggregate_document, min_summary_length=100)\n",
    "extractive_summary_primary"
   ]
  },
  {
   "cell_type": "code",
   "execution_count": 30,
   "metadata": {},
   "outputs": [
    {
     "data": {
      "text/plain": [
       "\"rory mcilroy beat dustin johnson, dustin johnson and jordan spieth in sunday's charity match. the pga tour's memorial tournament had hoped to pave the way for spectators to return to golf events during the coronavirus pandemic. it was the first televised men's golf in more than two months.\""
      ]
     },
     "execution_count": 30,
     "metadata": {},
     "output_type": "execute_result"
    }
   ],
   "source": [
    "abstractive_summary_primary = generate_abstractive_summary(aggregate_document, model = abstractive_summarizer_model)\n",
    "abstractive_summary_primary"
   ]
  },
  {
   "cell_type": "markdown",
   "metadata": {},
   "source": [
    "This is the primary abstracted summary -- works prety well but still prone to hallucination (In the reference articles, it's actually the russian vaccine that they are trying to convince works better than the american competitors)"
   ]
  },
  {
   "cell_type": "code",
   "execution_count": 31,
   "metadata": {},
   "outputs": [
    {
     "data": {
      "text/plain": [
       "\"rory mcilroy beat dustin johnson in sunday's charity golf match. the pga tour's memorial tournament had hoped to pave the way for spectators to return to golf events during the coronavirus pandemic. the event was the first televised men's golf in more than two months.\""
      ]
     },
     "execution_count": 31,
     "metadata": {},
     "output_type": "execute_result"
    }
   ],
   "source": [
    "abstractive_summary_secondary = generate_abstractive_summary(extractive_summary_primary, model = abstractive_summarizer_model) #Secondary summary in the hierarchy (i.e. a summary of a summary)\n",
    "abstractive_summary_secondary"
   ]
  },
  {
   "cell_type": "markdown",
   "metadata": {},
   "source": [
    "Lacks the coherency (In the last year, the subway conductor's coronavirus swas diagnosed with coronavirus)"
   ]
  },
  {
   "cell_type": "markdown",
   "metadata": {},
   "source": [
    "## Iterative Approach 2 \n",
    "\n",
    "Taking an article -> finding its 5 most similar articles -> summarizing that -> using summary to find next 5 most similar -> take 3 summaries and run abstractive"
   ]
  },
  {
   "cell_type": "code",
   "execution_count": 35,
   "metadata": {},
   "outputs": [],
   "source": [
    "from tqdm import tqdm\n",
    "from IPython.display import display"
   ]
  },
  {
   "cell_type": "code",
   "execution_count": 50,
   "metadata": {},
   "outputs": [],
   "source": [
    "def iterative_pipeline_new(search_document, df, model = \"abstractive_secondary\", n_iterations = 3):\n",
    "    print(f'Original Document: {search_document}')\n",
    "    document_summaries = list()\n",
    "    df = df.dropna(subset = ['first_paragraph'])\n",
    "    corpus = df.first_paragraph.to_list()\n",
    "    for i in tqdm(range(n_iterations)):\n",
    "        cosine_similarities = compute_cosine_similarities(search_document, corpus)\n",
    "        related_docs_indices = get_related_docs_indices(cosine_similarities) # The indices of the most related docs\n",
    "        show_related_docs(search_document, corpus, related_docs_indices)\n",
    "        aggregate_document = concatenate_related_docs(corpus, related_docs_indices) # The resulting document that is produced by concatenating all of the most similar documents\n",
    "        print(aggregate_document)\n",
    "        if model == \"abstractive_primary\":\n",
    "            document = generate_abstractive_summary(aggregate_document, model = abstractive_summarizer_model)\n",
    "        if model == \"abstractive_secondary\":\n",
    "            extractive_summary_primary = generate_extractive_summary(aggregate_document, min_summary_length=100)\n",
    "            document = generate_abstractive_summary(extractive_summary_primary, model = abstractive_summarizer_model)\n",
    "        if model == \"extractive_primary\":\n",
    "            document = generate_extractive_summary(aggregate_document, min_summary_length=100)\n",
    "        document_summaries.append(document)\n",
    "        search_document = document\n",
    "        print(f\"Iteration {i+1} model = {model}: \\n {document}\")\n",
    "    aggregate_document = \" \".join(document_summaries)\n",
    "    print(\"All document summaries aggregated: \\n\", aggregate_document)\n",
    "    if model == \"abstractive_primary\":\n",
    "        document = generate_abstractive_summary(aggregate_document, model = abstractive_summarizer_model)\n",
    "    if model == \"abstractive_secondary\":\n",
    "        extractive_summary_primary = generate_extractive_summary(aggregate_document, min_summary_length=100)\n",
    "        document = generate_abstractive_summary(extractive_summary_primary, model = abstractive_summarizer_model)\n",
    "    if model == \"extractive_primary\":\n",
    "        document = generate_extractive_summary(aggregate_document, min_summary_length=100)\n",
    "    print(f\"Final Iterative {model} Summary: {document}\")\n",
    "    return document"
   ]
  },
  {
   "cell_type": "code",
   "execution_count": 48,
   "metadata": {},
   "outputs": [
    {
     "data": {
      "text/plain": [
       "'MAMARONECK, N.Y. — In May, with most global sports competitions suspended because of the coronavirus pandemic, the veteran golfers Dustin Johnson, Rory McIlroy and Rickie Fowler competed in a made-for-TV charity match. Almost as a lark, or perhaps to lure a younger audience, Matthew Wolff, a 21-year-old PGA Tour newcomer, was invited to play, too.'"
      ]
     },
     "execution_count": 48,
     "metadata": {},
     "output_type": "execute_result"
    }
   ],
   "source": [
    "selected_doc"
   ]
  },
  {
   "cell_type": "code",
   "execution_count": 51,
   "metadata": {},
   "outputs": [
    {
     "name": "stderr",
     "output_type": "stream",
     "text": [
      "\r",
      "  0%|          | 0/3 [00:00<?, ?it/s]"
     ]
    },
    {
     "name": "stdout",
     "output_type": "stream",
     "text": [
      "Original Document: MAMARONECK, N.Y. — In May, with most global sports competitions suspended because of the coronavirus pandemic, the veteran golfers Dustin Johnson, Rory McIlroy and Rickie Fowler competed in a made-for-TV charity match. Almost as a lark, or perhaps to lure a younger audience, Matthew Wolff, a 21-year-old PGA Tour newcomer, was invited to play, too.\n",
      "\n",
      "SELECTED DOCUMENT: \n",
      "\n",
      "MAMARONECK, N.Y. — In May, with most global sports competitions suspended because of the coronavirus pandemic, the veteran golfers Dustin Johnson, Rory McIlroy and Rickie Fowler competed in a made-for-TV charity match. Almost as a lark, or perhaps to lure a younger audience, Matthew Wolff, a 21-year-old PGA Tour newcomer, was invited to play, too.\n",
      "\n",
      "\n",
      "####################################################################################################\n",
      "\n",
      "\n",
      "SIMILAR DOCUMENTS: \n",
      "\n",
      "Rory McIlroy stroked the clinching shot in Sunday’s uber-quirky charity golf match — the first televised competitive men’s golf in more than two months — but it was Dustin Johnson, McIlroy’s teammate in the event, who won the day. \n",
      "\n",
      "~~~~~~~~~~~~~~~~~~~~~~~~~~~~~~~~~~~~~~~~~~~~~~~~~~~~~~~~~~~~~~~~~~~~~~~~~~~~~~~~~~~~~~~~~~~~~~~~~~~~\n",
      "\n",
      "The PGA Tour’s Memorial Tournament, scheduled next week in central Ohio, had hoped to pave the way for spectators to return to golf events during the coronavirus pandemic, and in turn perhaps provide a blueprint for how fans could safely attend other major American sports competitions. \n",
      "\n",
      "~~~~~~~~~~~~~~~~~~~~~~~~~~~~~~~~~~~~~~~~~~~~~~~~~~~~~~~~~~~~~~~~~~~~~~~~~~~~~~~~~~~~~~~~~~~~~~~~~~~~\n",
      "\n",
      "HOUSTON — The PGA Tour does not have a 72-hole stroke play event this week, and several weekend college football games, including the marquee matchup between Michigan and Ohio State, have been canceled or postponed because of the coronavirus, leaving the best female golfers in the world well positioned to fill the TV viewing void. \n",
      "\n",
      "~~~~~~~~~~~~~~~~~~~~~~~~~~~~~~~~~~~~~~~~~~~~~~~~~~~~~~~~~~~~~~~~~~~~~~~~~~~~~~~~~~~~~~~~~~~~~~~~~~~~\n",
      "\n",
      "SPRINGFIELD, N.J. — It was on the eve of this month’s British Open that the world’s top four ranked golfers — Jason Day, Dustin Johnson, Jordan Spieth and Rory McIlroy — were compared to the Beatles, the original Fab Four. \n",
      "\n",
      "~~~~~~~~~~~~~~~~~~~~~~~~~~~~~~~~~~~~~~~~~~~~~~~~~~~~~~~~~~~~~~~~~~~~~~~~~~~~~~~~~~~~~~~~~~~~~~~~~~~~\n",
      "\n",
      "ERIN, Wis. — Rickie Fowler has been here before. Has he ever. And he doesn’t need to be reminded. \n",
      "\n",
      "~~~~~~~~~~~~~~~~~~~~~~~~~~~~~~~~~~~~~~~~~~~~~~~~~~~~~~~~~~~~~~~~~~~~~~~~~~~~~~~~~~~~~~~~~~~~~~~~~~~~\n",
      "\n",
      "####################################################################################################\n",
      "\n",
      "\n",
      "AGGREGATE DOCUMENT: \n",
      "\n",
      "Rory McIlroy stroked the clinching shot in Sunday’s uber-quirky charity golf match — the first televised competitive men’s golf in more than two months — but it was Dustin Johnson, McIlroy’s teammate in the event, who won the day. The PGA Tour’s Memorial Tournament, scheduled next week in central Ohio, had hoped to pave the way for spectators to return to golf events during the coronavirus pandemic, and in turn perhaps provide a blueprint for how fans could safely attend other major American sports competitions. HOUSTON — The PGA Tour does not have a 72-hole stroke play event this week, and several weekend college football games, including the marquee matchup between Michigan and Ohio State, have been canceled or postponed because of the coronavirus, leaving the best female golfers in the world well positioned to fill the TV viewing void. SPRINGFIELD, N.J. — It was on the eve of this month’s British Open that the world’s top four ranked golfers — Jason Day, Dustin Johnson, Jordan Spieth and Rory McIlroy — were compared to the Beatles, the original Fab Four. ERIN, Wis. — Rickie Fowler has been here before. Has he ever. And he doesn’t need to be reminded.\n",
      "\n",
      "####################################################################################################\n",
      "Rory McIlroy stroked the clinching shot in Sunday’s uber-quirky charity golf match — the first televised competitive men’s golf in more than two months — but it was Dustin Johnson, McIlroy’s teammate in the event, who won the day. The PGA Tour’s Memorial Tournament, scheduled next week in central Ohio, had hoped to pave the way for spectators to return to golf events during the coronavirus pandemic, and in turn perhaps provide a blueprint for how fans could safely attend other major American sports competitions. HOUSTON — The PGA Tour does not have a 72-hole stroke play event this week, and several weekend college football games, including the marquee matchup between Michigan and Ohio State, have been canceled or postponed because of the coronavirus, leaving the best female golfers in the world well positioned to fill the TV viewing void. SPRINGFIELD, N.J. — It was on the eve of this month’s British Open that the world’s top four ranked golfers — Jason Day, Dustin Johnson, Jordan Spieth and Rory McIlroy — were compared to the Beatles, the original Fab Four. ERIN, Wis. — Rickie Fowler has been here before. Has he ever. And he doesn’t need to be reminded.\n"
     ]
    },
    {
     "name": "stderr",
     "output_type": "stream",
     "text": [
      "\r",
      " 33%|███▎      | 1/3 [00:14<00:28, 14.18s/it]"
     ]
    },
    {
     "name": "stdout",
     "output_type": "stream",
     "text": [
      "Iteration 1 model = abstractive_secondary: \n",
      " rory mcilroy beat dustin johnson in sunday's charity golf match. the pga tour's memorial tournament had hoped to pave the way for spectators to return to golf events during the coronavirus pandemic. the event was the first televised men's golf in more than two months.\n",
      "\n",
      "SELECTED DOCUMENT: \n",
      "\n",
      "rory mcilroy beat dustin johnson in sunday's charity golf match. the pga tour's memorial tournament had hoped to pave the way for spectators to return to golf events during the coronavirus pandemic. the event was the first televised men's golf in more than two months.\n",
      "\n",
      "\n",
      "####################################################################################################\n",
      "\n",
      "\n",
      "SIMILAR DOCUMENTS: \n",
      "\n",
      "In a telephone appearance during a televised charity golf exhibition on Sunday, President Trump enthusiastically supported the return of live sports events during the coronavirus pandemic. \n",
      "\n",
      "~~~~~~~~~~~~~~~~~~~~~~~~~~~~~~~~~~~~~~~~~~~~~~~~~~~~~~~~~~~~~~~~~~~~~~~~~~~~~~~~~~~~~~~~~~~~~~~~~~~~\n",
      "\n",
      "Rory McIlroy stroked the clinching shot in Sunday’s uber-quirky charity golf match — the first televised competitive men’s golf in more than two months — but it was Dustin Johnson, McIlroy’s teammate in the event, who won the day. \n",
      "\n",
      "~~~~~~~~~~~~~~~~~~~~~~~~~~~~~~~~~~~~~~~~~~~~~~~~~~~~~~~~~~~~~~~~~~~~~~~~~~~~~~~~~~~~~~~~~~~~~~~~~~~~\n",
      "\n",
      "The PGA Tour’s Memorial Tournament, scheduled next week in central Ohio, had hoped to pave the way for spectators to return to golf events during the coronavirus pandemic, and in turn perhaps provide a blueprint for how fans could safely attend other major American sports competitions. \n",
      "\n",
      "~~~~~~~~~~~~~~~~~~~~~~~~~~~~~~~~~~~~~~~~~~~~~~~~~~~~~~~~~~~~~~~~~~~~~~~~~~~~~~~~~~~~~~~~~~~~~~~~~~~~\n",
      "\n",
      "RIO DE JANEIRO — The first day of Olympic golf in 112 years was a golf lesson as much as a golf tournament. \n",
      "\n",
      "~~~~~~~~~~~~~~~~~~~~~~~~~~~~~~~~~~~~~~~~~~~~~~~~~~~~~~~~~~~~~~~~~~~~~~~~~~~~~~~~~~~~~~~~~~~~~~~~~~~~\n",
      "\n",
      "NAUCALPAN DE JUÁREZ, Mexico — All but one of golf’s leading men assembled for one final casting call to pick a favorite to win the Masters. Given the results of the World Golf Championships event at Club de Golf Chapultepec, Dustin Johnson emerged with the slight edge, but it’s the quality of the ensemble cast that stands out as the PGA Tour heads to Augusta National’s grand stage next month. \n",
      "\n",
      "~~~~~~~~~~~~~~~~~~~~~~~~~~~~~~~~~~~~~~~~~~~~~~~~~~~~~~~~~~~~~~~~~~~~~~~~~~~~~~~~~~~~~~~~~~~~~~~~~~~~\n",
      "\n",
      "####################################################################################################\n",
      "\n",
      "\n",
      "AGGREGATE DOCUMENT: \n",
      "\n",
      "In a telephone appearance during a televised charity golf exhibition on Sunday, President Trump enthusiastically supported the return of live sports events during the coronavirus pandemic. Rory McIlroy stroked the clinching shot in Sunday’s uber-quirky charity golf match — the first televised competitive men’s golf in more than two months — but it was Dustin Johnson, McIlroy’s teammate in the event, who won the day. The PGA Tour’s Memorial Tournament, scheduled next week in central Ohio, had hoped to pave the way for spectators to return to golf events during the coronavirus pandemic, and in turn perhaps provide a blueprint for how fans could safely attend other major American sports competitions. RIO DE JANEIRO — The first day of Olympic golf in 112 years was a golf lesson as much as a golf tournament. NAUCALPAN DE JUÁREZ, Mexico — All but one of golf’s leading men assembled for one final casting call to pick a favorite to win the Masters. Given the results of the World Golf Championships event at Club de Golf Chapultepec, Dustin Johnson emerged with the slight edge, but it’s the quality of the ensemble cast that stands out as the PGA Tour heads to Augusta National’s grand stage next month.\n",
      "\n",
      "####################################################################################################\n",
      "In a telephone appearance during a televised charity golf exhibition on Sunday, President Trump enthusiastically supported the return of live sports events during the coronavirus pandemic. Rory McIlroy stroked the clinching shot in Sunday’s uber-quirky charity golf match — the first televised competitive men’s golf in more than two months — but it was Dustin Johnson, McIlroy’s teammate in the event, who won the day. The PGA Tour’s Memorial Tournament, scheduled next week in central Ohio, had hoped to pave the way for spectators to return to golf events during the coronavirus pandemic, and in turn perhaps provide a blueprint for how fans could safely attend other major American sports competitions. RIO DE JANEIRO — The first day of Olympic golf in 112 years was a golf lesson as much as a golf tournament. NAUCALPAN DE JUÁREZ, Mexico — All but one of golf’s leading men assembled for one final casting call to pick a favorite to win the Masters. Given the results of the World Golf Championships event at Club de Golf Chapultepec, Dustin Johnson emerged with the slight edge, but it’s the quality of the ensemble cast that stands out as the PGA Tour heads to Augusta National’s grand stage next month.\n"
     ]
    },
    {
     "name": "stderr",
     "output_type": "stream",
     "text": [
      "\r",
      " 67%|██████▋   | 2/3 [00:29<00:14, 14.49s/it]"
     ]
    },
    {
     "name": "stdout",
     "output_type": "stream",
     "text": [
      "Iteration 2 model = abstractive_secondary: \n",
      " president trump supported the return of live sports events during the coronavirus pandemic. the pga tour's memorial tournament had hoped to pave the way for spectators to return to golf events. president trump was in a telephone interview during a televised charity golf exhibition on sunday. the event was scheduled to take place next week in central ohio.\n",
      "\n",
      "SELECTED DOCUMENT: \n",
      "\n",
      "president trump supported the return of live sports events during the coronavirus pandemic. the pga tour's memorial tournament had hoped to pave the way for spectators to return to golf events. president trump was in a telephone interview during a televised charity golf exhibition on sunday. the event was scheduled to take place next week in central ohio.\n",
      "\n",
      "\n",
      "####################################################################################################\n",
      "\n",
      "\n",
      "SIMILAR DOCUMENTS: \n",
      "\n",
      "With the goal of resuming tournament play next month in Texas, PGA Tour officials on Wednesday outlined safety procedures they intend to implement, including layers of coronavirus testing for players, caddies and support personnel. The tour’s plan would restrict the movement of players during events, which will be conducted without live spectators, and encourage golfers to isolate themselves from the public when off the golf course. \n",
      "\n",
      "~~~~~~~~~~~~~~~~~~~~~~~~~~~~~~~~~~~~~~~~~~~~~~~~~~~~~~~~~~~~~~~~~~~~~~~~~~~~~~~~~~~~~~~~~~~~~~~~~~~~\n",
      "\n",
      "In a telephone appearance during a televised charity golf exhibition on Sunday, President Trump enthusiastically supported the return of live sports events during the coronavirus pandemic. \n",
      "\n",
      "~~~~~~~~~~~~~~~~~~~~~~~~~~~~~~~~~~~~~~~~~~~~~~~~~~~~~~~~~~~~~~~~~~~~~~~~~~~~~~~~~~~~~~~~~~~~~~~~~~~~\n",
      "\n",
      "The PGA Tour on Thursday announced it would resume its season in mid-June with a tournament in Fort Worth, Texas, which would most likely make men’s golf among the first major American professional sports to restart competition since the coronavirus pandemic halted most events in March. \n",
      "\n",
      "~~~~~~~~~~~~~~~~~~~~~~~~~~~~~~~~~~~~~~~~~~~~~~~~~~~~~~~~~~~~~~~~~~~~~~~~~~~~~~~~~~~~~~~~~~~~~~~~~~~~\n",
      "\n",
      "The PGA Tour’s Memorial Tournament, scheduled next week in central Ohio, had hoped to pave the way for spectators to return to golf events during the coronavirus pandemic, and in turn perhaps provide a blueprint for how fans could safely attend other major American sports competitions. \n",
      "\n",
      "~~~~~~~~~~~~~~~~~~~~~~~~~~~~~~~~~~~~~~~~~~~~~~~~~~~~~~~~~~~~~~~~~~~~~~~~~~~~~~~~~~~~~~~~~~~~~~~~~~~~\n",
      "\n",
      "RIO DE JANEIRO — The first day of Olympic golf in 112 years was a golf lesson as much as a golf tournament. \n",
      "\n",
      "~~~~~~~~~~~~~~~~~~~~~~~~~~~~~~~~~~~~~~~~~~~~~~~~~~~~~~~~~~~~~~~~~~~~~~~~~~~~~~~~~~~~~~~~~~~~~~~~~~~~\n",
      "\n",
      "####################################################################################################\n",
      "\n",
      "\n",
      "AGGREGATE DOCUMENT: \n",
      "\n",
      "With the goal of resuming tournament play next month in Texas, PGA Tour officials on Wednesday outlined safety procedures they intend to implement, including layers of coronavirus testing for players, caddies and support personnel. The tour’s plan would restrict the movement of players during events, which will be conducted without live spectators, and encourage golfers to isolate themselves from the public when off the golf course. In a telephone appearance during a televised charity golf exhibition on Sunday, President Trump enthusiastically supported the return of live sports events during the coronavirus pandemic. The PGA Tour on Thursday announced it would resume its season in mid-June with a tournament in Fort Worth, Texas, which would most likely make men’s golf among the first major American professional sports to restart competition since the coronavirus pandemic halted most events in March. The PGA Tour’s Memorial Tournament, scheduled next week in central Ohio, had hoped to pave the way for spectators to return to golf events during the coronavirus pandemic, and in turn perhaps provide a blueprint for how fans could safely attend other major American sports competitions. RIO DE JANEIRO — The first day of Olympic golf in 112 years was a golf lesson as much as a golf tournament.\n",
      "\n",
      "####################################################################################################\n",
      "With the goal of resuming tournament play next month in Texas, PGA Tour officials on Wednesday outlined safety procedures they intend to implement, including layers of coronavirus testing for players, caddies and support personnel. The tour’s plan would restrict the movement of players during events, which will be conducted without live spectators, and encourage golfers to isolate themselves from the public when off the golf course. In a telephone appearance during a televised charity golf exhibition on Sunday, President Trump enthusiastically supported the return of live sports events during the coronavirus pandemic. The PGA Tour on Thursday announced it would resume its season in mid-June with a tournament in Fort Worth, Texas, which would most likely make men’s golf among the first major American professional sports to restart competition since the coronavirus pandemic halted most events in March. The PGA Tour’s Memorial Tournament, scheduled next week in central Ohio, had hoped to pave the way for spectators to return to golf events during the coronavirus pandemic, and in turn perhaps provide a blueprint for how fans could safely attend other major American sports competitions. RIO DE JANEIRO — The first day of Olympic golf in 112 years was a golf lesson as much as a golf tournament.\n"
     ]
    },
    {
     "name": "stderr",
     "output_type": "stream",
     "text": [
      "100%|██████████| 3/3 [00:43<00:00, 14.57s/it]"
     ]
    },
    {
     "name": "stdout",
     "output_type": "stream",
     "text": [
      "Iteration 3 model = abstractive_secondary: \n",
      " pga tour officials outlined safety procedures they intend to implement next month. the pga tour's memorial tournament had hoped to pave the way for spectators to return to golf events during the coronavirus pandemic. players, caddies and support personnel were among those to be included.\n",
      "All document summaries aggregated: \n",
      " rory mcilroy beat dustin johnson in sunday's charity golf match. the pga tour's memorial tournament had hoped to pave the way for spectators to return to golf events during the coronavirus pandemic. the event was the first televised men's golf in more than two months. president trump supported the return of live sports events during the coronavirus pandemic. the pga tour's memorial tournament had hoped to pave the way for spectators to return to golf events. president trump was in a telephone interview during a televised charity golf exhibition on sunday. the event was scheduled to take place next week in central ohio. pga tour officials outlined safety procedures they intend to implement next month. the pga tour's memorial tournament had hoped to pave the way for spectators to return to golf events during the coronavirus pandemic. players, caddies and support personnel were among those to be included.\n"
     ]
    },
    {
     "name": "stderr",
     "output_type": "stream",
     "text": [
      "\n"
     ]
    },
    {
     "name": "stdout",
     "output_type": "stream",
     "text": [
      "Final Iterative abstractive_secondary Summary: pga tour's memorial tournament had hoped to pave the way for spectators to return to golf events during the coronavirus pandemic. pga tour had hoped the event would pave for spectators returning from the corona virus. the memorial tournament hoped to help spectators return from the virus - stricken region during the world's coronavirus.\n"
     ]
    },
    {
     "data": {
      "text/plain": [
       "\"pga tour's memorial tournament had hoped to pave the way for spectators to return to golf events during the coronavirus pandemic. pga tour had hoped the event would pave for spectators returning from the corona virus. the memorial tournament hoped to help spectators return from the virus - stricken region during the world's coronavirus.\""
      ]
     },
     "execution_count": 51,
     "metadata": {},
     "output_type": "execute_result"
    }
   ],
   "source": [
    "a = iterative_pipeline_new(selected_doc, full_data)\n",
    "a"
   ]
  },
  {
   "cell_type": "markdown",
   "metadata": {},
   "source": [
    "### Trying with a different reference article"
   ]
  },
  {
   "cell_type": "code",
   "execution_count": 52,
   "metadata": {},
   "outputs": [
    {
     "name": "stderr",
     "output_type": "stream",
     "text": [
      "\r",
      "  0%|          | 0/3 [00:00<?, ?it/s]"
     ]
    },
    {
     "name": "stdout",
     "output_type": "stream",
     "text": [
      "Original Document: WASHINGTON — Michael Pillsbury had just finished a rib-eye salad at the Cosmos Club on Tuesday when he received a text message from the White House: “The president is trying to reach you. Call back.”\n",
      "\n",
      "SELECTED DOCUMENT: \n",
      "\n",
      "WASHINGTON — Michael Pillsbury had just finished a rib-eye salad at the Cosmos Club on Tuesday when he received a text message from the White House: “The president is trying to reach you. Call back.”\n",
      "\n",
      "\n",
      "####################################################################################################\n",
      "\n",
      "\n",
      "SIMILAR DOCUMENTS: \n",
      "\n",
      "True to its mischievous title, Dean Rader’s book “Self Portrait as Wikipedia Entry” is an eclectic assemblage of tributes and allegories, letters and instructional headers, interspersed with subversive self-portraits. In this poem, even unlikely end words like “a” and “the” turn out to be faithful to the rhyme scheme — a clear homage to Robert Frost, who was known for setting colloquial expressions to classic meter. Frost’s spirit permeates this wintry scene, where each paradox melts into the next. A ballad to yearning and mortality, as biting as ice, as inscrutable as the snowy woods. Selected by Rita Dove \n",
      "\n",
      "~~~~~~~~~~~~~~~~~~~~~~~~~~~~~~~~~~~~~~~~~~~~~~~~~~~~~~~~~~~~~~~~~~~~~~~~~~~~~~~~~~~~~~~~~~~~~~~~~~~~\n",
      "\n",
      "BIALYSTOK, Poland — The marchers at the first gay pride parade here in the conservative Polish city of Bialystok expected that they would be met with resistance. \n",
      "\n",
      "~~~~~~~~~~~~~~~~~~~~~~~~~~~~~~~~~~~~~~~~~~~~~~~~~~~~~~~~~~~~~~~~~~~~~~~~~~~~~~~~~~~~~~~~~~~~~~~~~~~~\n",
      "\n",
      "Q: I rent an apartment in a prewar building in Upper Manhattan with my wife and our 1-year-old son, who crawls. Whenever our son spins an object on the floor, or drops a toy, our downstairs neighbor bangs violently on the ceiling, often shouting obscenities. He has twice complained to the management about us, but they don’t seem inclined to get involved. We have carpets on much of the floor and never wear shoes indoors, but it makes no difference. I try to be a respectful and accommodating neighbor. What can I do? \n",
      "\n",
      "~~~~~~~~~~~~~~~~~~~~~~~~~~~~~~~~~~~~~~~~~~~~~~~~~~~~~~~~~~~~~~~~~~~~~~~~~~~~~~~~~~~~~~~~~~~~~~~~~~~~\n",
      "\n",
      "Yeah, we all go to the bathroom. And these days we all seem to go on (and on) about it.   \n",
      "\n",
      "~~~~~~~~~~~~~~~~~~~~~~~~~~~~~~~~~~~~~~~~~~~~~~~~~~~~~~~~~~~~~~~~~~~~~~~~~~~~~~~~~~~~~~~~~~~~~~~~~~~~\n",
      "\n",
      "President Trump summoned the titans of American business to the White House on Monday for what was billed as a “listening session,” but it was the new president who delivered the loudest message: Bring back domestic manufacturing jobs, or face punishing tariffs and other penalties. \n",
      "\n",
      "~~~~~~~~~~~~~~~~~~~~~~~~~~~~~~~~~~~~~~~~~~~~~~~~~~~~~~~~~~~~~~~~~~~~~~~~~~~~~~~~~~~~~~~~~~~~~~~~~~~~\n",
      "\n",
      "####################################################################################################\n",
      "\n",
      "\n",
      "AGGREGATE DOCUMENT: \n",
      "\n",
      "True to its mischievous title, Dean Rader’s book “Self Portrait as Wikipedia Entry” is an eclectic assemblage of tributes and allegories, letters and instructional headers, interspersed with subversive self-portraits. In this poem, even unlikely end words like “a” and “the” turn out to be faithful to the rhyme scheme — a clear homage to Robert Frost, who was known for setting colloquial expressions to classic meter. Frost’s spirit permeates this wintry scene, where each paradox melts into the next. A ballad to yearning and mortality, as biting as ice, as inscrutable as the snowy woods. Selected by Rita Dove BIALYSTOK, Poland — The marchers at the first gay pride parade here in the conservative Polish city of Bialystok expected that they would be met with resistance. Q: I rent an apartment in a prewar building in Upper Manhattan with my wife and our 1-year-old son, who crawls. Whenever our son spins an object on the floor, or drops a toy, our downstairs neighbor bangs violently on the ceiling, often shouting obscenities. He has twice complained to the management about us, but they don’t seem inclined to get involved. We have carpets on much of the floor and never wear shoes indoors, but it makes no difference. I try to be a respectful and accommodating neighbor. What can I do? Yeah, we all go to the bathroom. And these days we all seem to go on (and on) about it.   President Trump summoned the titans of American business to the White House on Monday for what was billed as a “listening session,” but it was the new president who delivered the loudest message: Bring back domestic manufacturing jobs, or face punishing tariffs and other penalties.\n",
      "\n",
      "####################################################################################################\n",
      "True to its mischievous title, Dean Rader’s book “Self Portrait as Wikipedia Entry” is an eclectic assemblage of tributes and allegories, letters and instructional headers, interspersed with subversive self-portraits. In this poem, even unlikely end words like “a” and “the” turn out to be faithful to the rhyme scheme — a clear homage to Robert Frost, who was known for setting colloquial expressions to classic meter. Frost’s spirit permeates this wintry scene, where each paradox melts into the next. A ballad to yearning and mortality, as biting as ice, as inscrutable as the snowy woods. Selected by Rita Dove BIALYSTOK, Poland — The marchers at the first gay pride parade here in the conservative Polish city of Bialystok expected that they would be met with resistance. Q: I rent an apartment in a prewar building in Upper Manhattan with my wife and our 1-year-old son, who crawls. Whenever our son spins an object on the floor, or drops a toy, our downstairs neighbor bangs violently on the ceiling, often shouting obscenities. He has twice complained to the management about us, but they don’t seem inclined to get involved. We have carpets on much of the floor and never wear shoes indoors, but it makes no difference. I try to be a respectful and accommodating neighbor. What can I do? Yeah, we all go to the bathroom. And these days we all seem to go on (and on) about it.   President Trump summoned the titans of American business to the White House on Monday for what was billed as a “listening session,” but it was the new president who delivered the loudest message: Bring back domestic manufacturing jobs, or face punishing tariffs and other penalties.\n"
     ]
    },
    {
     "name": "stderr",
     "output_type": "stream",
     "text": [
      "\r",
      " 33%|███▎      | 1/3 [00:15<00:31, 15.98s/it]"
     ]
    },
    {
     "name": "stdout",
     "output_type": "stream",
     "text": [
      "Iteration 1 model = abstractive_secondary: \n",
      " dean rader's book'self portrait as wikipedia entry'is an eclectic assemblage of tributes, letters and instructional headers. the new president delivered the loudest message : bring back domestic manufacturing jobs, or face punishing tariffs and other penalties. the book was billed as a listening session for a'listening session '\n",
      "\n",
      "SELECTED DOCUMENT: \n",
      "\n",
      "dean rader's book'self portrait as wikipedia entry'is an eclectic assemblage of tributes, letters and instructional headers. the new president delivered the loudest message : bring back domestic manufacturing jobs, or face punishing tariffs and other penalties. the book was billed as a listening session for a'listening session '\n",
      "\n",
      "\n",
      "####################################################################################################\n",
      "\n",
      "\n",
      "SIMILAR DOCUMENTS: \n",
      "\n",
      "From the book: \n",
      "\n",
      "~~~~~~~~~~~~~~~~~~~~~~~~~~~~~~~~~~~~~~~~~~~~~~~~~~~~~~~~~~~~~~~~~~~~~~~~~~~~~~~~~~~~~~~~~~~~~~~~~~~~\n",
      "\n",
      "True to its mischievous title, Dean Rader’s book “Self Portrait as Wikipedia Entry” is an eclectic assemblage of tributes and allegories, letters and instructional headers, interspersed with subversive self-portraits. In this poem, even unlikely end words like “a” and “the” turn out to be faithful to the rhyme scheme — a clear homage to Robert Frost, who was known for setting colloquial expressions to classic meter. Frost’s spirit permeates this wintry scene, where each paradox melts into the next. A ballad to yearning and mortality, as biting as ice, as inscrutable as the snowy woods. Selected by Rita Dove \n",
      "\n",
      "~~~~~~~~~~~~~~~~~~~~~~~~~~~~~~~~~~~~~~~~~~~~~~~~~~~~~~~~~~~~~~~~~~~~~~~~~~~~~~~~~~~~~~~~~~~~~~~~~~~~\n",
      "\n",
      "From the book: \n",
      "\n",
      "~~~~~~~~~~~~~~~~~~~~~~~~~~~~~~~~~~~~~~~~~~~~~~~~~~~~~~~~~~~~~~~~~~~~~~~~~~~~~~~~~~~~~~~~~~~~~~~~~~~~\n",
      "\n",
      "President Trump summoned the titans of American business to the White House on Monday for what was billed as a “listening session,” but it was the new president who delivered the loudest message: Bring back domestic manufacturing jobs, or face punishing tariffs and other penalties. \n",
      "\n",
      "~~~~~~~~~~~~~~~~~~~~~~~~~~~~~~~~~~~~~~~~~~~~~~~~~~~~~~~~~~~~~~~~~~~~~~~~~~~~~~~~~~~~~~~~~~~~~~~~~~~~\n",
      "\n",
      "In an event with black supporters billed as an “African-American History Month listening session,” President Trump on Wednesday veered into some of his preferred topics, including crime and media bias. \n",
      "\n",
      "~~~~~~~~~~~~~~~~~~~~~~~~~~~~~~~~~~~~~~~~~~~~~~~~~~~~~~~~~~~~~~~~~~~~~~~~~~~~~~~~~~~~~~~~~~~~~~~~~~~~\n",
      "\n",
      "####################################################################################################\n",
      "\n",
      "\n",
      "AGGREGATE DOCUMENT: \n",
      "\n",
      "From the book: True to its mischievous title, Dean Rader’s book “Self Portrait as Wikipedia Entry” is an eclectic assemblage of tributes and allegories, letters and instructional headers, interspersed with subversive self-portraits. In this poem, even unlikely end words like “a” and “the” turn out to be faithful to the rhyme scheme — a clear homage to Robert Frost, who was known for setting colloquial expressions to classic meter. Frost’s spirit permeates this wintry scene, where each paradox melts into the next. A ballad to yearning and mortality, as biting as ice, as inscrutable as the snowy woods. Selected by Rita Dove From the book: President Trump summoned the titans of American business to the White House on Monday for what was billed as a “listening session,” but it was the new president who delivered the loudest message: Bring back domestic manufacturing jobs, or face punishing tariffs and other penalties. In an event with black supporters billed as an “African-American History Month listening session,” President Trump on Wednesday veered into some of his preferred topics, including crime and media bias.\n",
      "\n",
      "####################################################################################################\n",
      "From the book: True to its mischievous title, Dean Rader’s book “Self Portrait as Wikipedia Entry” is an eclectic assemblage of tributes and allegories, letters and instructional headers, interspersed with subversive self-portraits. In this poem, even unlikely end words like “a” and “the” turn out to be faithful to the rhyme scheme — a clear homage to Robert Frost, who was known for setting colloquial expressions to classic meter. Frost’s spirit permeates this wintry scene, where each paradox melts into the next. A ballad to yearning and mortality, as biting as ice, as inscrutable as the snowy woods. Selected by Rita Dove From the book: President Trump summoned the titans of American business to the White House on Monday for what was billed as a “listening session,” but it was the new president who delivered the loudest message: Bring back domestic manufacturing jobs, or face punishing tariffs and other penalties. In an event with black supporters billed as an “African-American History Month listening session,” President Trump on Wednesday veered into some of his preferred topics, including crime and media bias.\n"
     ]
    },
    {
     "name": "stderr",
     "output_type": "stream",
     "text": [
      "\r",
      " 67%|██████▋   | 2/3 [00:30<00:15, 15.45s/it]"
     ]
    },
    {
     "name": "stdout",
     "output_type": "stream",
     "text": [
      "Iteration 2 model = abstractive_secondary: \n",
      " dean rader's book'self portrait as wikipedia entry'is an eclectic selection of tributes and subversive self - portraits. the book is a tribute to the book's author, dean. the president has veered into some of his preferred topics, including crime and media bias.\n",
      "\n",
      "SELECTED DOCUMENT: \n",
      "\n",
      "dean rader's book'self portrait as wikipedia entry'is an eclectic selection of tributes and subversive self - portraits. the book is a tribute to the book's author, dean. the president has veered into some of his preferred topics, including crime and media bias.\n",
      "\n",
      "\n",
      "####################################################################################################\n",
      "\n",
      "\n",
      "SIMILAR DOCUMENTS: \n",
      "\n",
      "True to its mischievous title, Dean Rader’s book “Self Portrait as Wikipedia Entry” is an eclectic assemblage of tributes and allegories, letters and instructional headers, interspersed with subversive self-portraits. In this poem, even unlikely end words like “a” and “the” turn out to be faithful to the rhyme scheme — a clear homage to Robert Frost, who was known for setting colloquial expressions to classic meter. Frost’s spirit permeates this wintry scene, where each paradox melts into the next. A ballad to yearning and mortality, as biting as ice, as inscrutable as the snowy woods. Selected by Rita Dove \n",
      "\n",
      "~~~~~~~~~~~~~~~~~~~~~~~~~~~~~~~~~~~~~~~~~~~~~~~~~~~~~~~~~~~~~~~~~~~~~~~~~~~~~~~~~~~~~~~~~~~~~~~~~~~~\n",
      "\n",
      "From the book: \n",
      "\n",
      "~~~~~~~~~~~~~~~~~~~~~~~~~~~~~~~~~~~~~~~~~~~~~~~~~~~~~~~~~~~~~~~~~~~~~~~~~~~~~~~~~~~~~~~~~~~~~~~~~~~~\n",
      "\n",
      "From the book: \n",
      "\n",
      "~~~~~~~~~~~~~~~~~~~~~~~~~~~~~~~~~~~~~~~~~~~~~~~~~~~~~~~~~~~~~~~~~~~~~~~~~~~~~~~~~~~~~~~~~~~~~~~~~~~~\n",
      "\n",
      "From the book: \n",
      "\n",
      "~~~~~~~~~~~~~~~~~~~~~~~~~~~~~~~~~~~~~~~~~~~~~~~~~~~~~~~~~~~~~~~~~~~~~~~~~~~~~~~~~~~~~~~~~~~~~~~~~~~~\n",
      "\n",
      "In an event with black supporters billed as an “African-American History Month listening session,” President Trump on Wednesday veered into some of his preferred topics, including crime and media bias. \n",
      "\n",
      "~~~~~~~~~~~~~~~~~~~~~~~~~~~~~~~~~~~~~~~~~~~~~~~~~~~~~~~~~~~~~~~~~~~~~~~~~~~~~~~~~~~~~~~~~~~~~~~~~~~~\n",
      "\n",
      "####################################################################################################\n",
      "\n",
      "\n",
      "AGGREGATE DOCUMENT: \n",
      "\n",
      "True to its mischievous title, Dean Rader’s book “Self Portrait as Wikipedia Entry” is an eclectic assemblage of tributes and allegories, letters and instructional headers, interspersed with subversive self-portraits. In this poem, even unlikely end words like “a” and “the” turn out to be faithful to the rhyme scheme — a clear homage to Robert Frost, who was known for setting colloquial expressions to classic meter. Frost’s spirit permeates this wintry scene, where each paradox melts into the next. A ballad to yearning and mortality, as biting as ice, as inscrutable as the snowy woods. Selected by Rita Dove From the book: From the book: From the book: In an event with black supporters billed as an “African-American History Month listening session,” President Trump on Wednesday veered into some of his preferred topics, including crime and media bias.\n",
      "\n",
      "####################################################################################################\n",
      "True to its mischievous title, Dean Rader’s book “Self Portrait as Wikipedia Entry” is an eclectic assemblage of tributes and allegories, letters and instructional headers, interspersed with subversive self-portraits. In this poem, even unlikely end words like “a” and “the” turn out to be faithful to the rhyme scheme — a clear homage to Robert Frost, who was known for setting colloquial expressions to classic meter. Frost’s spirit permeates this wintry scene, where each paradox melts into the next. A ballad to yearning and mortality, as biting as ice, as inscrutable as the snowy woods. Selected by Rita Dove From the book: From the book: From the book: In an event with black supporters billed as an “African-American History Month listening session,” President Trump on Wednesday veered into some of his preferred topics, including crime and media bias.\n"
     ]
    },
    {
     "name": "stderr",
     "output_type": "stream",
     "text": [
      "100%|██████████| 3/3 [00:45<00:00, 15.18s/it]"
     ]
    },
    {
     "name": "stdout",
     "output_type": "stream",
     "text": [
      "Iteration 3 model = abstractive_secondary: \n",
      " dean rader's book'self portrait as wikipedia entry'is an eclectic assemblage of tributes and allegories, letters and instructional headers. the book is a mixture of tribute and subversive self - portraits and tributes to the wikipedia entry.\n",
      "All document summaries aggregated: \n",
      " dean rader's book'self portrait as wikipedia entry'is an eclectic assemblage of tributes, letters and instructional headers. the new president delivered the loudest message : bring back domestic manufacturing jobs, or face punishing tariffs and other penalties. the book was billed as a listening session for a'listening session ' dean rader's book'self portrait as wikipedia entry'is an eclectic selection of tributes and subversive self - portraits. the book is a tribute to the book's author, dean. the president has veered into some of his preferred topics, including crime and media bias. dean rader's book'self portrait as wikipedia entry'is an eclectic assemblage of tributes and allegories, letters and instructional headers. the book is a mixture of tribute and subversive self - portraits and tributes to the wikipedia entry.\n"
     ]
    },
    {
     "name": "stderr",
     "output_type": "stream",
     "text": [
      "\n"
     ]
    },
    {
     "name": "stdout",
     "output_type": "stream",
     "text": [
      "Final Iterative abstractive_secondary Summary: dean rader's book'self portrait as wikipedia entry'is an eclectic assemblage of tributes, letters and instructional headers. it's an eclectic mix of tribute headers, tributes and instruction headers from all over the world. the book is based on a book's self portrait titled'self portraits as wikipedia entries '\n"
     ]
    },
    {
     "data": {
      "text/plain": [
       "\"dean rader's book'self portrait as wikipedia entry'is an eclectic assemblage of tributes, letters and instructional headers. it's an eclectic mix of tribute headers, tributes and instruction headers from all over the world. the book is based on a book's self portrait titled'self portraits as wikipedia entries '\""
      ]
     },
     "execution_count": 52,
     "metadata": {},
     "output_type": "execute_result"
    }
   ],
   "source": [
    "search_doc = full_data.first_paragraph.to_list()  # Converting to a list to vectorize the entries\n",
    "selected_doc = search_doc[3]\n",
    "iterative_pipeline_new(selected_doc, full_data, n_iterations = 3)"
   ]
  },
  {
   "cell_type": "markdown",
   "metadata": {},
   "source": [
    "There is still potentially the problem for cascading errors when it comes to articles that are relatively new and unique and there is not much written about it before. OR if the document's first paragraph is not as descriptive but it is interesting that the summmary documents come out to be relatively informative on background information."
   ]
  },
  {
   "cell_type": "code",
   "execution_count": null,
   "metadata": {},
   "outputs": [],
   "source": []
  }
 ],
 "metadata": {
  "environment": {
   "name": "pytorch-gpu.1-7.m65",
   "type": "gcloud",
   "uri": "gcr.io/deeplearning-platform-release/pytorch-gpu.1-7:m65"
  },
  "kernelspec": {
   "display_name": "Python 3",
   "language": "python",
   "name": "python3"
  },
  "language_info": {
   "codemirror_mode": {
    "name": "ipython",
    "version": 3
   },
   "file_extension": ".py",
   "mimetype": "text/x-python",
   "name": "python",
   "nbconvert_exporter": "python",
   "pygments_lexer": "ipython3",
   "version": "3.8.3"
  }
 },
 "nbformat": 4,
 "nbformat_minor": 5
}
