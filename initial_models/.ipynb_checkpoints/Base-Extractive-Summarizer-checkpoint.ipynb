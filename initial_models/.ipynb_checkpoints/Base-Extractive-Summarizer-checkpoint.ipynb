{
 "cells": [
  {
   "cell_type": "code",
   "execution_count": null,
   "metadata": {
    "colab": {
     "base_uri": "https://localhost:8080/"
    },
    "id": "3yAjLM6s5QIP",
    "outputId": "be00013f-f2e7-4b00-fda8-cc38850c7aeb"
   },
   "outputs": [
    {
     "name": "stdout",
     "output_type": "stream",
     "text": [
      "Requirement already satisfied: bert-extractive-summarizer in /usr/local/lib/python3.7/dist-packages (0.7.0)\n",
      "Requirement already satisfied: spacy in /usr/local/lib/python3.7/dist-packages (from bert-extractive-summarizer) (2.1.3)\n",
      "Requirement already satisfied: scikit-learn in /usr/local/lib/python3.7/dist-packages (from bert-extractive-summarizer) (0.22.2.post1)\n",
      "Requirement already satisfied: transformers in /usr/local/lib/python3.7/dist-packages (from bert-extractive-summarizer) (2.8.0)\n",
      "Requirement already satisfied: numpy>=1.15.0 in /usr/local/lib/python3.7/dist-packages (from spacy->bert-extractive-summarizer) (1.19.5)\n",
      "Requirement already satisfied: wasabi<1.1.0,>=0.2.0 in /usr/local/lib/python3.7/dist-packages (from spacy->bert-extractive-summarizer) (0.8.2)\n",
      "Requirement already satisfied: murmurhash<1.1.0,>=0.28.0 in /usr/local/lib/python3.7/dist-packages (from spacy->bert-extractive-summarizer) (1.0.5)\n",
      "Requirement already satisfied: blis<0.3.0,>=0.2.2 in /usr/local/lib/python3.7/dist-packages (from spacy->bert-extractive-summarizer) (0.2.4)\n",
      "Requirement already satisfied: preshed<2.1.0,>=2.0.1 in /usr/local/lib/python3.7/dist-packages (from spacy->bert-extractive-summarizer) (2.0.1)\n",
      "Requirement already satisfied: thinc<7.1.0,>=7.0.2 in /usr/local/lib/python3.7/dist-packages (from spacy->bert-extractive-summarizer) (7.0.8)\n",
      "Requirement already satisfied: requests<3.0.0,>=2.13.0 in /usr/local/lib/python3.7/dist-packages (from spacy->bert-extractive-summarizer) (2.23.0)\n",
      "Requirement already satisfied: srsly<1.1.0,>=0.0.5 in /usr/local/lib/python3.7/dist-packages (from spacy->bert-extractive-summarizer) (1.0.5)\n",
      "Requirement already satisfied: cymem<2.1.0,>=2.0.2 in /usr/local/lib/python3.7/dist-packages (from spacy->bert-extractive-summarizer) (2.0.5)\n",
      "Requirement already satisfied: plac<1.0.0,>=0.9.6 in /usr/local/lib/python3.7/dist-packages (from spacy->bert-extractive-summarizer) (0.9.6)\n",
      "Requirement already satisfied: jsonschema<3.0.0,>=2.6.0 in /usr/local/lib/python3.7/dist-packages (from spacy->bert-extractive-summarizer) (2.6.0)\n",
      "Requirement already satisfied: joblib>=0.11 in /usr/local/lib/python3.7/dist-packages (from scikit-learn->bert-extractive-summarizer) (1.0.1)\n",
      "Requirement already satisfied: scipy>=0.17.0 in /usr/local/lib/python3.7/dist-packages (from scikit-learn->bert-extractive-summarizer) (1.4.1)\n",
      "Requirement already satisfied: filelock in /usr/local/lib/python3.7/dist-packages (from transformers->bert-extractive-summarizer) (3.0.12)\n",
      "Requirement already satisfied: boto3 in /usr/local/lib/python3.7/dist-packages (from transformers->bert-extractive-summarizer) (1.17.18)\n",
      "Requirement already satisfied: regex!=2019.12.17 in /usr/local/lib/python3.7/dist-packages (from transformers->bert-extractive-summarizer) (2019.12.20)\n",
      "Requirement already satisfied: sacremoses in /usr/local/lib/python3.7/dist-packages (from transformers->bert-extractive-summarizer) (0.0.43)\n",
      "Requirement already satisfied: sentencepiece in /usr/local/lib/python3.7/dist-packages (from transformers->bert-extractive-summarizer) (0.1.95)\n",
      "Requirement already satisfied: tqdm>=4.27 in /usr/local/lib/python3.7/dist-packages (from transformers->bert-extractive-summarizer) (4.41.1)\n",
      "Requirement already satisfied: tokenizers==0.5.2 in /usr/local/lib/python3.7/dist-packages (from transformers->bert-extractive-summarizer) (0.5.2)\n",
      "Requirement already satisfied: idna<3,>=2.5 in /usr/local/lib/python3.7/dist-packages (from requests<3.0.0,>=2.13.0->spacy->bert-extractive-summarizer) (2.10)\n",
      "Requirement already satisfied: certifi>=2017.4.17 in /usr/local/lib/python3.7/dist-packages (from requests<3.0.0,>=2.13.0->spacy->bert-extractive-summarizer) (2020.12.5)\n",
      "Requirement already satisfied: urllib3!=1.25.0,!=1.25.1,<1.26,>=1.21.1 in /usr/local/lib/python3.7/dist-packages (from requests<3.0.0,>=2.13.0->spacy->bert-extractive-summarizer) (1.24.3)\n",
      "Requirement already satisfied: chardet<4,>=3.0.2 in /usr/local/lib/python3.7/dist-packages (from requests<3.0.0,>=2.13.0->spacy->bert-extractive-summarizer) (3.0.4)\n",
      "Requirement already satisfied: botocore<1.21.0,>=1.20.18 in /usr/local/lib/python3.7/dist-packages (from boto3->transformers->bert-extractive-summarizer) (1.20.18)\n",
      "Requirement already satisfied: jmespath<1.0.0,>=0.7.1 in /usr/local/lib/python3.7/dist-packages (from boto3->transformers->bert-extractive-summarizer) (0.10.0)\n",
      "Requirement already satisfied: s3transfer<0.4.0,>=0.3.0 in /usr/local/lib/python3.7/dist-packages (from boto3->transformers->bert-extractive-summarizer) (0.3.4)\n",
      "Requirement already satisfied: six in /usr/local/lib/python3.7/dist-packages (from sacremoses->transformers->bert-extractive-summarizer) (1.15.0)\n",
      "Requirement already satisfied: click in /usr/local/lib/python3.7/dist-packages (from sacremoses->transformers->bert-extractive-summarizer) (7.1.2)\n",
      "Requirement already satisfied: python-dateutil<3.0.0,>=2.1 in /usr/local/lib/python3.7/dist-packages (from botocore<1.21.0,>=1.20.18->boto3->transformers->bert-extractive-summarizer) (2.8.1)\n"
     ]
    }
   ],
   "source": [
    "pip install bert-extractive-summarizer"
   ]
  },
  {
   "cell_type": "code",
   "execution_count": null,
   "metadata": {
    "colab": {
     "base_uri": "https://localhost:8080/"
    },
    "id": "9XrVj0Ah5YhC",
    "outputId": "2336d14f-a9c1-4570-b2d9-badae4a56847"
   },
   "outputs": [
    {
     "name": "stdout",
     "output_type": "stream",
     "text": [
      "Collecting spacy==2.1.3\n",
      "\u001b[?25l  Downloading https://files.pythonhosted.org/packages/c7/29/ede5977ea144bb5758407542eb363ebfb11bbb459d26dea5dd0545563854/spacy-2.1.3-cp37-cp37m-manylinux1_x86_64.whl (27.7MB)\n",
      "\u001b[K     |████████████████████████████████| 27.7MB 158kB/s \n",
      "\u001b[?25hCollecting thinc<7.1.0,>=7.0.2\n",
      "\u001b[?25l  Downloading https://files.pythonhosted.org/packages/36/42/d7ea7539af3852fd8c1f0b3adf4a100fb3d72b40b69cef1a764ff979a743/thinc-7.0.8-cp37-cp37m-manylinux1_x86_64.whl (2.1MB)\n",
      "\u001b[K     |████████████████████████████████| 2.1MB 45.0MB/s \n",
      "\u001b[?25hCollecting blis<0.3.0,>=0.2.2\n",
      "\u001b[?25l  Downloading https://files.pythonhosted.org/packages/fa/5f/47b7b29ad202b2210020e2f33bfb06d1db2abe0e709c2a84736e8a9d1bd5/blis-0.2.4-cp37-cp37m-manylinux1_x86_64.whl (3.2MB)\n",
      "\u001b[K     |████████████████████████████████| 3.2MB 21.4MB/s \n",
      "\u001b[?25hRequirement already satisfied: srsly<1.1.0,>=0.0.5 in /usr/local/lib/python3.7/dist-packages (from spacy==2.1.3) (1.0.5)\n",
      "Collecting preshed<2.1.0,>=2.0.1\n",
      "\u001b[?25l  Downloading https://files.pythonhosted.org/packages/bc/2b/3ecd5d90d2d6fd39fbc520de7d80db5d74defdc2d7c2e15531d9cc3498c7/preshed-2.0.1-cp37-cp37m-manylinux1_x86_64.whl (82kB)\n",
      "\u001b[K     |████████████████████████████████| 92kB 11.0MB/s \n",
      "\u001b[?25hRequirement already satisfied: wasabi<1.1.0,>=0.2.0 in /usr/local/lib/python3.7/dist-packages (from spacy==2.1.3) (0.8.2)\n",
      "Requirement already satisfied: murmurhash<1.1.0,>=0.28.0 in /usr/local/lib/python3.7/dist-packages (from spacy==2.1.3) (1.0.5)\n",
      "Requirement already satisfied: requests<3.0.0,>=2.13.0 in /usr/local/lib/python3.7/dist-packages (from spacy==2.1.3) (2.23.0)\n",
      "Requirement already satisfied: numpy>=1.15.0 in /usr/local/lib/python3.7/dist-packages (from spacy==2.1.3) (1.19.5)\n",
      "Requirement already satisfied: cymem<2.1.0,>=2.0.2 in /usr/local/lib/python3.7/dist-packages (from spacy==2.1.3) (2.0.5)\n",
      "Collecting plac<1.0.0,>=0.9.6\n",
      "  Downloading https://files.pythonhosted.org/packages/9e/9b/62c60d2f5bc135d2aa1d8c8a86aaf84edb719a59c7f11a4316259e61a298/plac-0.9.6-py2.py3-none-any.whl\n",
      "Requirement already satisfied: jsonschema<3.0.0,>=2.6.0 in /usr/local/lib/python3.7/dist-packages (from spacy==2.1.3) (2.6.0)\n",
      "Requirement already satisfied: tqdm<5.0.0,>=4.10.0 in /usr/local/lib/python3.7/dist-packages (from thinc<7.1.0,>=7.0.2->spacy==2.1.3) (4.41.1)\n",
      "Requirement already satisfied: certifi>=2017.4.17 in /usr/local/lib/python3.7/dist-packages (from requests<3.0.0,>=2.13.0->spacy==2.1.3) (2020.12.5)\n",
      "Requirement already satisfied: chardet<4,>=3.0.2 in /usr/local/lib/python3.7/dist-packages (from requests<3.0.0,>=2.13.0->spacy==2.1.3) (3.0.4)\n",
      "Requirement already satisfied: idna<3,>=2.5 in /usr/local/lib/python3.7/dist-packages (from requests<3.0.0,>=2.13.0->spacy==2.1.3) (2.10)\n",
      "Requirement already satisfied: urllib3!=1.25.0,!=1.25.1,<1.26,>=1.21.1 in /usr/local/lib/python3.7/dist-packages (from requests<3.0.0,>=2.13.0->spacy==2.1.3) (1.24.3)\n",
      "\u001b[31mERROR: en-core-web-sm 2.2.5 has requirement spacy>=2.2.2, but you'll have spacy 2.1.3 which is incompatible.\u001b[0m\n",
      "Installing collected packages: preshed, plac, blis, thinc, spacy\n",
      "  Found existing installation: preshed 3.0.5\n",
      "    Uninstalling preshed-3.0.5:\n",
      "      Successfully uninstalled preshed-3.0.5\n",
      "  Found existing installation: plac 1.1.3\n",
      "    Uninstalling plac-1.1.3:\n",
      "      Successfully uninstalled plac-1.1.3\n",
      "  Found existing installation: blis 0.4.1\n",
      "    Uninstalling blis-0.4.1:\n",
      "      Successfully uninstalled blis-0.4.1\n",
      "  Found existing installation: thinc 7.4.0\n",
      "    Uninstalling thinc-7.4.0:\n",
      "      Successfully uninstalled thinc-7.4.0\n",
      "  Found existing installation: spacy 2.2.4\n",
      "    Uninstalling spacy-2.2.4:\n",
      "      Successfully uninstalled spacy-2.2.4\n",
      "Successfully installed blis-0.2.4 plac-0.9.6 preshed-2.0.1 spacy-2.1.3 thinc-7.0.8\n"
     ]
    }
   ],
   "source": [
    "pip install spacy==2.1.3\n"
   ]
  },
  {
   "cell_type": "code",
   "execution_count": null,
   "metadata": {
    "colab": {
     "base_uri": "https://localhost:8080/"
    },
    "id": "CKgDX-MD5fZC",
    "outputId": "f6aa23a4-7bd0-467c-a757-dc30835488fe"
   },
   "outputs": [
    {
     "name": "stdout",
     "output_type": "stream",
     "text": [
      "Collecting transformers==2.2.2\n",
      "\u001b[?25l  Downloading https://files.pythonhosted.org/packages/d1/08/4a6768ca1a7a4fa37e5ee08077c5d02b8d83876bd36caa5fc24d98992ac2/transformers-2.2.2-py3-none-any.whl (387kB)\n",
      "\r",
      "\u001b[K     |▉                               | 10kB 16.6MB/s eta 0:00:01\r",
      "\u001b[K     |█▊                              | 20kB 11.8MB/s eta 0:00:01\r",
      "\u001b[K     |██▌                             | 30kB 8.3MB/s eta 0:00:01\r",
      "\u001b[K     |███▍                            | 40kB 7.5MB/s eta 0:00:01\r",
      "\u001b[K     |████▎                           | 51kB 4.5MB/s eta 0:00:01\r",
      "\u001b[K     |█████                           | 61kB 4.5MB/s eta 0:00:01\r",
      "\u001b[K     |██████                          | 71kB 4.7MB/s eta 0:00:01\r",
      "\u001b[K     |██████▊                         | 81kB 5.1MB/s eta 0:00:01\r",
      "\u001b[K     |███████▋                        | 92kB 5.2MB/s eta 0:00:01\r",
      "\u001b[K     |████████▌                       | 102kB 4.3MB/s eta 0:00:01\r",
      "\u001b[K     |█████████▎                      | 112kB 4.3MB/s eta 0:00:01\r",
      "\u001b[K     |██████████▏                     | 122kB 4.3MB/s eta 0:00:01\r",
      "\u001b[K     |███████████                     | 133kB 4.3MB/s eta 0:00:01\r",
      "\u001b[K     |███████████▉                    | 143kB 4.3MB/s eta 0:00:01\r",
      "\u001b[K     |████████████▊                   | 153kB 4.3MB/s eta 0:00:01\r",
      "\u001b[K     |█████████████▌                  | 163kB 4.3MB/s eta 0:00:01\r",
      "\u001b[K     |██████████████▍                 | 174kB 4.3MB/s eta 0:00:01\r",
      "\u001b[K     |███████████████▏                | 184kB 4.3MB/s eta 0:00:01\r",
      "\u001b[K     |████████████████                | 194kB 4.3MB/s eta 0:00:01\r",
      "\u001b[K     |█████████████████               | 204kB 4.3MB/s eta 0:00:01\r",
      "\u001b[K     |█████████████████▊              | 215kB 4.3MB/s eta 0:00:01\r",
      "\u001b[K     |██████████████████▋             | 225kB 4.3MB/s eta 0:00:01\r",
      "\u001b[K     |███████████████████▌            | 235kB 4.3MB/s eta 0:00:01\r",
      "\u001b[K     |████████████████████▎           | 245kB 4.3MB/s eta 0:00:01\r",
      "\u001b[K     |█████████████████████▏          | 256kB 4.3MB/s eta 0:00:01\r",
      "\u001b[K     |██████████████████████          | 266kB 4.3MB/s eta 0:00:01\r",
      "\u001b[K     |██████████████████████▉         | 276kB 4.3MB/s eta 0:00:01\r",
      "\u001b[K     |███████████████████████▊        | 286kB 4.3MB/s eta 0:00:01\r",
      "\u001b[K     |████████████████████████▌       | 296kB 4.3MB/s eta 0:00:01\r",
      "\u001b[K     |█████████████████████████▍      | 307kB 4.3MB/s eta 0:00:01\r",
      "\u001b[K     |██████████████████████████▏     | 317kB 4.3MB/s eta 0:00:01\r",
      "\u001b[K     |███████████████████████████     | 327kB 4.3MB/s eta 0:00:01\r",
      "\u001b[K     |████████████████████████████    | 337kB 4.3MB/s eta 0:00:01\r",
      "\u001b[K     |████████████████████████████▊   | 348kB 4.3MB/s eta 0:00:01\r",
      "\u001b[K     |█████████████████████████████▋  | 358kB 4.3MB/s eta 0:00:01\r",
      "\u001b[K     |██████████████████████████████▍ | 368kB 4.3MB/s eta 0:00:01\r",
      "\u001b[K     |███████████████████████████████▎| 378kB 4.3MB/s eta 0:00:01\r",
      "\u001b[K     |████████████████████████████████| 389kB 4.3MB/s \n",
      "\u001b[?25hRequirement already satisfied: tqdm in /usr/local/lib/python3.7/dist-packages (from transformers==2.2.2) (4.41.1)\n",
      "Requirement already satisfied: sacremoses in /usr/local/lib/python3.7/dist-packages (from transformers==2.2.2) (0.0.43)\n",
      "Requirement already satisfied: requests in /usr/local/lib/python3.7/dist-packages (from transformers==2.2.2) (2.23.0)\n",
      "Requirement already satisfied: numpy in /usr/local/lib/python3.7/dist-packages (from transformers==2.2.2) (1.19.5)\n",
      "Collecting boto3\n",
      "\u001b[?25l  Downloading https://files.pythonhosted.org/packages/e6/f8/9505c0a9c21ec477631c8e7e377e006ec19280376160ce73a6b8d0702336/boto3-1.17.18-py2.py3-none-any.whl (130kB)\n",
      "\u001b[K     |████████████████████████████████| 133kB 7.6MB/s \n",
      "\u001b[?25hRequirement already satisfied: regex in /usr/local/lib/python3.7/dist-packages (from transformers==2.2.2) (2019.12.20)\n",
      "Collecting sentencepiece\n",
      "\u001b[?25l  Downloading https://files.pythonhosted.org/packages/f5/99/e0808cb947ba10f575839c43e8fafc9cc44e4a7a2c8f79c60db48220a577/sentencepiece-0.1.95-cp37-cp37m-manylinux2014_x86_64.whl (1.2MB)\n",
      "\u001b[K     |████████████████████████████████| 1.2MB 7.9MB/s \n",
      "\u001b[?25hRequirement already satisfied: joblib in /usr/local/lib/python3.7/dist-packages (from sacremoses->transformers==2.2.2) (1.0.1)\n",
      "Requirement already satisfied: six in /usr/local/lib/python3.7/dist-packages (from sacremoses->transformers==2.2.2) (1.15.0)\n",
      "Requirement already satisfied: click in /usr/local/lib/python3.7/dist-packages (from sacremoses->transformers==2.2.2) (7.1.2)\n",
      "Requirement already satisfied: chardet<4,>=3.0.2 in /usr/local/lib/python3.7/dist-packages (from requests->transformers==2.2.2) (3.0.4)\n",
      "Requirement already satisfied: certifi>=2017.4.17 in /usr/local/lib/python3.7/dist-packages (from requests->transformers==2.2.2) (2020.12.5)\n",
      "Requirement already satisfied: urllib3!=1.25.0,!=1.25.1,<1.26,>=1.21.1 in /usr/local/lib/python3.7/dist-packages (from requests->transformers==2.2.2) (1.24.3)\n",
      "Requirement already satisfied: idna<3,>=2.5 in /usr/local/lib/python3.7/dist-packages (from requests->transformers==2.2.2) (2.10)\n",
      "Collecting jmespath<1.0.0,>=0.7.1\n",
      "  Downloading https://files.pythonhosted.org/packages/07/cb/5f001272b6faeb23c1c9e0acc04d48eaaf5c862c17709d20e3469c6e0139/jmespath-0.10.0-py2.py3-none-any.whl\n",
      "Collecting s3transfer<0.4.0,>=0.3.0\n",
      "\u001b[?25l  Downloading https://files.pythonhosted.org/packages/ea/43/4b4a1b26eb03a429a4c37ca7fdf369d938bd60018fc194e94b8379b0c77c/s3transfer-0.3.4-py2.py3-none-any.whl (69kB)\n",
      "\u001b[K     |████████████████████████████████| 71kB 8.0MB/s \n",
      "\u001b[?25hCollecting botocore<1.21.0,>=1.20.18\n",
      "\u001b[?25l  Downloading https://files.pythonhosted.org/packages/48/42/5add1bc9e32717967c1f1cc7b36053f242c6a23bc36313549c4062e30efc/botocore-1.20.18-py2.py3-none-any.whl (7.3MB)\n",
      "\u001b[K     |████████████████████████████████| 7.3MB 16.5MB/s \n",
      "\u001b[?25hRequirement already satisfied: python-dateutil<3.0.0,>=2.1 in /usr/local/lib/python3.7/dist-packages (from botocore<1.21.0,>=1.20.18->boto3->transformers==2.2.2) (2.8.1)\n",
      "\u001b[31mERROR: botocore 1.20.18 has requirement urllib3<1.27,>=1.25.4, but you'll have urllib3 1.24.3 which is incompatible.\u001b[0m\n",
      "Installing collected packages: jmespath, botocore, s3transfer, boto3, sentencepiece, transformers\n",
      "  Found existing installation: transformers 4.3.3\n",
      "    Uninstalling transformers-4.3.3:\n",
      "      Successfully uninstalled transformers-4.3.3\n",
      "Successfully installed boto3-1.17.18 botocore-1.20.18 jmespath-0.10.0 s3transfer-0.3.4 sentencepiece-0.1.95 transformers-2.2.2\n"
     ]
    }
   ],
   "source": [
    "pip install transformers==2.2.2\n"
   ]
  },
  {
   "cell_type": "code",
   "execution_count": null,
   "metadata": {
    "colab": {
     "base_uri": "https://localhost:8080/"
    },
    "id": "i1H7wsq855ya",
    "outputId": "503ed7ef-5c55-45e9-f2e8-085fc5c600a1"
   },
   "outputs": [
    {
     "name": "stdout",
     "output_type": "stream",
     "text": [
      "Collecting neuralcoref\n",
      "\u001b[?25l  Downloading https://files.pythonhosted.org/packages/06/6d/c90e5bfd1b8ef32f1b231a32f2f625bf33df7525324d2bbcd08992791d64/neuralcoref-4.0-cp37-cp37m-manylinux1_x86_64.whl (286kB)\n",
      "\r",
      "\u001b[K     |█▏                              | 10kB 13.6MB/s eta 0:00:01\r",
      "\u001b[K     |██▎                             | 20kB 17.7MB/s eta 0:00:01\r",
      "\u001b[K     |███▍                            | 30kB 11.9MB/s eta 0:00:01\r",
      "\u001b[K     |████▋                           | 40kB 8.7MB/s eta 0:00:01\r",
      "\u001b[K     |█████▊                          | 51kB 4.4MB/s eta 0:00:01\r",
      "\u001b[K     |██████▉                         | 61kB 4.9MB/s eta 0:00:01\r",
      "\u001b[K     |████████                        | 71kB 4.5MB/s eta 0:00:01\r",
      "\u001b[K     |█████████▏                      | 81kB 5.0MB/s eta 0:00:01\r",
      "\u001b[K     |██████████▎                     | 92kB 5.4MB/s eta 0:00:01\r",
      "\u001b[K     |███████████▌                    | 102kB 4.2MB/s eta 0:00:01\r",
      "\u001b[K     |████████████▋                   | 112kB 4.2MB/s eta 0:00:01\r",
      "\u001b[K     |█████████████▊                  | 122kB 4.2MB/s eta 0:00:01\r",
      "\u001b[K     |██████████████▉                 | 133kB 4.2MB/s eta 0:00:01\r",
      "\u001b[K     |████████████████                | 143kB 4.2MB/s eta 0:00:01\r",
      "\u001b[K     |█████████████████▏              | 153kB 4.2MB/s eta 0:00:01\r",
      "\u001b[K     |██████████████████▎             | 163kB 4.2MB/s eta 0:00:01\r",
      "\u001b[K     |███████████████████▌            | 174kB 4.2MB/s eta 0:00:01\r",
      "\u001b[K     |████████████████████▋           | 184kB 4.2MB/s eta 0:00:01\r",
      "\u001b[K     |█████████████████████▊          | 194kB 4.2MB/s eta 0:00:01\r",
      "\u001b[K     |███████████████████████         | 204kB 4.2MB/s eta 0:00:01\r",
      "\u001b[K     |████████████████████████        | 215kB 4.2MB/s eta 0:00:01\r",
      "\u001b[K     |█████████████████████████▏      | 225kB 4.2MB/s eta 0:00:01\r",
      "\u001b[K     |██████████████████████████▎     | 235kB 4.2MB/s eta 0:00:01\r",
      "\u001b[K     |███████████████████████████▌    | 245kB 4.2MB/s eta 0:00:01\r",
      "\u001b[K     |████████████████████████████▋   | 256kB 4.2MB/s eta 0:00:01\r",
      "\u001b[K     |█████████████████████████████▊  | 266kB 4.2MB/s eta 0:00:01\r",
      "\u001b[K     |███████████████████████████████ | 276kB 4.2MB/s eta 0:00:01\r",
      "\u001b[K     |████████████████████████████████| 286kB 4.2MB/s \n",
      "\u001b[?25hRequirement already satisfied: spacy>=2.1.0 in /usr/local/lib/python3.7/dist-packages (from neuralcoref) (2.1.3)\n",
      "Requirement already satisfied: boto3 in /usr/local/lib/python3.7/dist-packages (from neuralcoref) (1.17.18)\n",
      "Requirement already satisfied: requests<3.0.0,>=2.13.0 in /usr/local/lib/python3.7/dist-packages (from neuralcoref) (2.23.0)\n",
      "Requirement already satisfied: numpy>=1.15.0 in /usr/local/lib/python3.7/dist-packages (from neuralcoref) (1.19.5)\n",
      "Requirement already satisfied: thinc<7.1.0,>=7.0.2 in /usr/local/lib/python3.7/dist-packages (from spacy>=2.1.0->neuralcoref) (7.0.8)\n",
      "Requirement already satisfied: cymem<2.1.0,>=2.0.2 in /usr/local/lib/python3.7/dist-packages (from spacy>=2.1.0->neuralcoref) (2.0.5)\n",
      "Requirement already satisfied: wasabi<1.1.0,>=0.2.0 in /usr/local/lib/python3.7/dist-packages (from spacy>=2.1.0->neuralcoref) (0.8.2)\n",
      "Requirement already satisfied: plac<1.0.0,>=0.9.6 in /usr/local/lib/python3.7/dist-packages (from spacy>=2.1.0->neuralcoref) (0.9.6)\n",
      "Requirement already satisfied: srsly<1.1.0,>=0.0.5 in /usr/local/lib/python3.7/dist-packages (from spacy>=2.1.0->neuralcoref) (1.0.5)\n",
      "Requirement already satisfied: blis<0.3.0,>=0.2.2 in /usr/local/lib/python3.7/dist-packages (from spacy>=2.1.0->neuralcoref) (0.2.4)\n",
      "Requirement already satisfied: preshed<2.1.0,>=2.0.1 in /usr/local/lib/python3.7/dist-packages (from spacy>=2.1.0->neuralcoref) (2.0.1)\n",
      "Requirement already satisfied: murmurhash<1.1.0,>=0.28.0 in /usr/local/lib/python3.7/dist-packages (from spacy>=2.1.0->neuralcoref) (1.0.5)\n",
      "Requirement already satisfied: jsonschema<3.0.0,>=2.6.0 in /usr/local/lib/python3.7/dist-packages (from spacy>=2.1.0->neuralcoref) (2.6.0)\n",
      "Requirement already satisfied: s3transfer<0.4.0,>=0.3.0 in /usr/local/lib/python3.7/dist-packages (from boto3->neuralcoref) (0.3.4)\n",
      "Requirement already satisfied: jmespath<1.0.0,>=0.7.1 in /usr/local/lib/python3.7/dist-packages (from boto3->neuralcoref) (0.10.0)\n",
      "Requirement already satisfied: botocore<1.21.0,>=1.20.18 in /usr/local/lib/python3.7/dist-packages (from boto3->neuralcoref) (1.20.18)\n",
      "Requirement already satisfied: urllib3!=1.25.0,!=1.25.1,<1.26,>=1.21.1 in /usr/local/lib/python3.7/dist-packages (from requests<3.0.0,>=2.13.0->neuralcoref) (1.24.3)\n",
      "Requirement already satisfied: certifi>=2017.4.17 in /usr/local/lib/python3.7/dist-packages (from requests<3.0.0,>=2.13.0->neuralcoref) (2020.12.5)\n",
      "Requirement already satisfied: idna<3,>=2.5 in /usr/local/lib/python3.7/dist-packages (from requests<3.0.0,>=2.13.0->neuralcoref) (2.10)\n",
      "Requirement already satisfied: chardet<4,>=3.0.2 in /usr/local/lib/python3.7/dist-packages (from requests<3.0.0,>=2.13.0->neuralcoref) (3.0.4)\n",
      "Requirement already satisfied: tqdm<5.0.0,>=4.10.0 in /usr/local/lib/python3.7/dist-packages (from thinc<7.1.0,>=7.0.2->spacy>=2.1.0->neuralcoref) (4.41.1)\n",
      "Requirement already satisfied: python-dateutil<3.0.0,>=2.1 in /usr/local/lib/python3.7/dist-packages (from botocore<1.21.0,>=1.20.18->boto3->neuralcoref) (2.8.1)\n",
      "Requirement already satisfied: six>=1.5 in /usr/local/lib/python3.7/dist-packages (from python-dateutil<3.0.0,>=2.1->botocore<1.21.0,>=1.20.18->boto3->neuralcoref) (1.15.0)\n",
      "Installing collected packages: neuralcoref\n",
      "Successfully installed neuralcoref-4.0\n"
     ]
    }
   ],
   "source": [
    "pip install neuralcoref"
   ]
  },
  {
   "cell_type": "code",
   "execution_count": null,
   "metadata": {
    "colab": {
     "base_uri": "https://localhost:8080/",
     "height": 130
    },
    "id": "8FOKvJ6P57he",
    "outputId": "942a029f-61c6-4bc7-85b0-bcc2939cd699"
   },
   "outputs": [
    {
     "ename": "SyntaxError",
     "evalue": "ignored",
     "output_type": "error",
     "traceback": [
      "\u001b[0;36m  File \u001b[0;32m\"<ipython-input-7-d310d0f8f1c0>\"\u001b[0;36m, line \u001b[0;32m1\u001b[0m\n\u001b[0;31m    python -m spacy download en_core_web_md\u001b[0m\n\u001b[0m                  ^\u001b[0m\n\u001b[0;31mSyntaxError\u001b[0m\u001b[0;31m:\u001b[0m invalid syntax\n"
     ]
    }
   ],
   "source": [
    "python -m spacy download en_core_web_md"
   ]
  },
  {
   "cell_type": "code",
   "execution_count": null,
   "metadata": {
    "id": "1hlGM2Tt6Aop"
   },
   "outputs": [],
   "source": [
    "from summarizer import Summarizer"
   ]
  },
  {
   "cell_type": "code",
   "execution_count": null,
   "metadata": {
    "colab": {
     "base_uri": "https://localhost:8080/"
    },
    "id": "5w7haePm6Hxg",
    "outputId": "ec81d393-5377-472e-c4dd-75454fb0f42d"
   },
   "outputs": [
    {
     "name": "stdout",
     "output_type": "stream",
     "text": [
      "At 1:51 p.m. on Jan. 6, a right-wing radio host named Michael D. Brown wrote on Twitter that rioters had breached the United States Capitol — and immediately speculated about who was really to blame. “ Come on, man, have you never heard of psyops?” Antifa, BLM, that’s what they do. At Senate hearings last week focused on the security breakdown at the Capitol, Senator Ron Johnson, a Wisconsin Republican, repeated the falsehood that “fake Trump protesters” fomented the violence. In a telephone interview last week, Mr. Johnson delivered a handful of unsubstantiated or false statements that dovetail with much of the right-wing disinformation about the riot circulating online and on conservative radio and television programs.\n"
     ]
    }
   ],
   "source": [
    "body = '''\n",
    "At 1:51 p.m. on Jan. 6, a right-wing radio host named Michael D. Brown wrote on Twitter that rioters had breached the United States Capitol — and immediately speculated about who was really to blame. “Antifa or BLM or other insurgents could be doing it disguised as Trump supporters,” Mr. Brown wrote, using shorthand for Black Lives Matter. “Come on, man, have you never heard of psyops?”\n",
    "Only 13,000 people follow Mr. Brown on Twitter, but his tweet caught the attention of another conservative pundit: Todd Herman, who was guest-hosting Rush Limbaugh’s national radio program. Minutes later, he repeated Mr. Brown’s baseless claim to Mr. Limbaugh’s throngs of listeners: “It’s probably not Trump supporters who would do that. Antifa, BLM, that’s what they do. Right?”\n",
    "What happened over the next 12 hours illustrated the speed and the scale of a right-wing disinformation machine primed to seize on a lie that served its political interests and quickly spread it as truth to a receptive audience. The weekslong fiction about a stolen election that President Donald J. Trump pushed to his millions of supporters had set the stage for a new and equally false iteration: that left-wing agitators were responsible for the attack on the Capitol.\n",
    "In fact, the rioters breaking into the citadel of American democracy that day were acolytes of Mr. Trump, intent on stopping Congress from certifying his electoral defeat. Subsequent arrests and investigations have found no evidence that people who identify with antifa, a loose collective of antifascist activists, were involved in the insurrection.\n",
    "But even as Americans watched live images of rioters wearing MAGA hats and carrying Trump flags breach the Capitol — egged on only minutes earlier by a president who falsely denounced a rigged election and exhorted his followers to fight for justice — history was being rewritten in real time.\n",
    "Within hours, a narrative built on rumors and partisan conjecture had reached the Twitter megaphones of pro-Trump politicians. By day’s end, Laura Ingraham and Sarah Palin had shared it with millions of Fox News viewers, and Representative Matt Gaetz of Florida had stood on the ransacked House floor and claimed that many rioters “were members of the violent terrorist group antifa.”\n",
    "Nearly two months after the attack, the claim that antifa was involved has been repeatedly debunked by federal authorities, but it has hardened into gospel among hard-line Trump supporters, by voters and sanctified by elected officials in the party. More than half of Trump voters in a Suffolk University/USA Today poll said that the riot was “mostly an antifa-inspired attack.” At Senate hearings last week focused on the security breakdown at the Capitol, Senator Ron Johnson, a Wisconsin Republican, repeated the falsehood that “fake Trump protesters” fomented the violence.\n",
    "For those who hoped Mr. Trump’s don’t-believe-your-eyes tactics might fade after his defeat, the mainstreaming of the antifa conspiracy is a sign that truth remains a fungible concept among his most ardent followers. Buoyed by a powerful right-wing media network that had just spent eight weeks advancing Mr. Trump’s baseless claims of voter fraud, pro-Trump Republicans have succeeded in warping their voters’ realities, exhibiting sheer gall as they seek to minimize a violent riot perpetrated by their own supporters.\n",
    "If anyone was responsible for desecrating the Capitol, Mr. Johnson said in a radio interview as the violence was unfolding that day, “I would really question whether that’s a true Trump supporter or a true conservative.”\n",
    "In a telephone interview last week, Mr. Johnson delivered a handful of unsubstantiated or false statements that dovetail with much of the right-wing disinformation about the riot circulating online and on conservative radio and television programs. The senator said that while most of the people arrested at the Capitol were right-wing Trump supporters, he had not reached any conclusions about the political affiliations of those responsible for planning it.\n",
    "He said he had “seen videos of other people claiming to be antifa” preparing in their hotel rooms.\n",
    "“I don’t know if any of that’s been verified,” Mr. Johnson added.\n",
    "'''\n",
    "\n",
    "model = Summarizer()\n",
    "result = model(body, min_length=30)\n",
    "full = ''.join(result)\n",
    "print(full)"
   ]
  },
  {
   "cell_type": "code",
   "execution_count": null,
   "metadata": {
    "colab": {
     "base_uri": "https://localhost:8080/",
     "height": 88
    },
    "id": "yUN_oz0r8wkc",
    "outputId": "2c067dcc-abec-41d6-a80b-fbaff1706a4c"
   },
   "outputs": [
    {
     "data": {
      "application/vnd.google.colaboratory.intrinsic+json": {
       "type": "string"
      },
      "text/plain": [
       "'‘‘’At 1:51 p.m. on Jan. 6, a right-wing radio host named Michael D. Brown wrote on Twitter that rioters had breached the United States Capitol — and immediately speculated about who was really to blame. “ Minutes later, he repeated Mr. Brown’s baseless claim to Mr. Limbaugh’s throngs of listeners: “It’s probably not Trump supporters who would do that. The weekslong fiction about a stolen election that President Donald J. Trump pushed to his millions of supporters had set the stage for a new and equally false iteration: that left-wing agitators were responsible for the attack on the Capitol. In a telephone interview last week, Mr. Johnson delivered a handful of unsubstantiated or false statements that dovetail with much of the right-wing disinformation about the riot circulating online and on conservative radio and television programs.'"
      ]
     },
     "execution_count": 18,
     "metadata": {
      "tags": []
     },
     "output_type": "execute_result"
    }
   ],
   "source": [
    "result"
   ]
  },
  {
   "cell_type": "code",
   "execution_count": null,
   "metadata": {
    "colab": {
     "base_uri": "https://localhost:8080/"
    },
    "id": "lBhfQwyS8xci",
    "outputId": "1ab6eff5-02a3-4888-ab08-c06a55f9c567"
   },
   "outputs": [
    {
     "name": "stdout",
     "output_type": "stream",
     "text": [
      "Requirement already satisfied: transformers==2.8.0 in /usr/local/lib/python3.7/dist-packages (2.8.0)\n",
      "Requirement already satisfied: sacremoses in /usr/local/lib/python3.7/dist-packages (from transformers==2.8.0) (0.0.43)\n",
      "Requirement already satisfied: requests in /usr/local/lib/python3.7/dist-packages (from transformers==2.8.0) (2.23.0)\n",
      "Requirement already satisfied: regex!=2019.12.17 in /usr/local/lib/python3.7/dist-packages (from transformers==2.8.0) (2019.12.20)\n",
      "Requirement already satisfied: boto3 in /usr/local/lib/python3.7/dist-packages (from transformers==2.8.0) (1.17.18)\n",
      "Requirement already satisfied: numpy in /usr/local/lib/python3.7/dist-packages (from transformers==2.8.0) (1.19.5)\n",
      "Requirement already satisfied: sentencepiece in /usr/local/lib/python3.7/dist-packages (from transformers==2.8.0) (0.1.95)\n",
      "Requirement already satisfied: tqdm>=4.27 in /usr/local/lib/python3.7/dist-packages (from transformers==2.8.0) (4.41.1)\n",
      "Requirement already satisfied: filelock in /usr/local/lib/python3.7/dist-packages (from transformers==2.8.0) (3.0.12)\n",
      "Requirement already satisfied: tokenizers==0.5.2 in /usr/local/lib/python3.7/dist-packages (from transformers==2.8.0) (0.5.2)\n",
      "Requirement already satisfied: six in /usr/local/lib/python3.7/dist-packages (from sacremoses->transformers==2.8.0) (1.15.0)\n",
      "Requirement already satisfied: joblib in /usr/local/lib/python3.7/dist-packages (from sacremoses->transformers==2.8.0) (1.0.1)\n",
      "Requirement already satisfied: click in /usr/local/lib/python3.7/dist-packages (from sacremoses->transformers==2.8.0) (7.1.2)\n",
      "Requirement already satisfied: certifi>=2017.4.17 in /usr/local/lib/python3.7/dist-packages (from requests->transformers==2.8.0) (2020.12.5)\n",
      "Requirement already satisfied: urllib3!=1.25.0,!=1.25.1,<1.26,>=1.21.1 in /usr/local/lib/python3.7/dist-packages (from requests->transformers==2.8.0) (1.24.3)\n",
      "Requirement already satisfied: chardet<4,>=3.0.2 in /usr/local/lib/python3.7/dist-packages (from requests->transformers==2.8.0) (3.0.4)\n",
      "Requirement already satisfied: idna<3,>=2.5 in /usr/local/lib/python3.7/dist-packages (from requests->transformers==2.8.0) (2.10)\n",
      "Requirement already satisfied: botocore<1.21.0,>=1.20.18 in /usr/local/lib/python3.7/dist-packages (from boto3->transformers==2.8.0) (1.20.18)\n",
      "Requirement already satisfied: s3transfer<0.4.0,>=0.3.0 in /usr/local/lib/python3.7/dist-packages (from boto3->transformers==2.8.0) (0.3.4)\n",
      "Requirement already satisfied: jmespath<1.0.0,>=0.7.1 in /usr/local/lib/python3.7/dist-packages (from boto3->transformers==2.8.0) (0.10.0)\n",
      "Requirement already satisfied: python-dateutil<3.0.0,>=2.1 in /usr/local/lib/python3.7/dist-packages (from botocore<1.21.0,>=1.20.18->boto3->transformers==2.8.0) (2.8.1)\n",
      "Requirement already satisfied: torch==1.4.0 in /usr/local/lib/python3.7/dist-packages (1.4.0)\n"
     ]
    }
   ],
   "source": [
    "!pip install transformers==2.8.0\n",
    "!pip install torch==1.4.0"
   ]
  },
  {
   "cell_type": "code",
   "execution_count": null,
   "metadata": {
    "id": "y7tHMUBr9V60"
   },
   "outputs": [],
   "source": [
    "import torch\n",
    "import json \n",
    "from transformers import T5Tokenizer, T5ForConditionalGeneration, T5Config\n",
    "\n",
    "model = T5ForConditionalGeneration.from_pretrained('t5-small')\n",
    "tokenizer = T5Tokenizer.from_pretrained('t5-small')\n",
    "device = torch.device('cpu')"
   ]
  },
  {
   "cell_type": "code",
   "execution_count": null,
   "metadata": {
    "id": "o4VgVj9-9gi4"
   },
   "outputs": [],
   "source": [
    "text =\"\"\"\n",
    "The US has \"passed the peak\" on new coronavirus cases, President Donald Trump said and predicted that some states would reopen this month.\n",
    "The US has over 637,000 confirmed Covid-19 cases and over 30,826 deaths, the highest for any country in the world.\n",
    "At the daily White House coronavirus briefing on Wednesday, Trump said new guidelines to reopen the country would be announced on Thursday after he speaks to governors.\n",
    "\"We'll be the comeback kids, all of us,\" he said. \"We want to get our country back.\"\n",
    "The Trump administration has previously fixed May 1 as a possible date to reopen the world's largest economy, but the president said some states may be able to return to normalcy earlier than that.\n",
    "\"\"\""
   ]
  },
  {
   "cell_type": "code",
   "execution_count": null,
   "metadata": {
    "colab": {
     "base_uri": "https://localhost:8080/"
    },
    "id": "M6-VDq-y9hFw",
    "outputId": "30db176e-0496-4e6a-eb27-db7d3a5f6758"
   },
   "outputs": [
    {
     "name": "stderr",
     "output_type": "stream",
     "text": [
      "Token indices sequence length is longer than the specified maximum sequence length for this model (1009 > 512). Running this sequence through the model will result in indexing errors\n"
     ]
    },
    {
     "name": "stdout",
     "output_type": "stream",
     "text": [
      "original text preprocessed: \n",
      " At 1:51 p.m. on Jan. 6, a right-wing radio host named Michael D. Brown wrote on Twitter that rioters had breached the United States Capitol — and immediately speculated about who was really to blame. “Antifa or BLM or other insurgents could be doing it disguised as Trump supporters,” Mr. Brown wrote, using shorthand for Black Lives Matter. “Come on, man, have you never heard of psyops?”Only 13,000 people follow Mr. Brown on Twitter, but his tweet caught the attention of another conservative pundit: Todd Herman, who was guest-hosting Rush Limbaugh’s national radio program. Minutes later, he repeated Mr. Brown’s baseless claim to Mr. Limbaugh’s throngs of listeners: “It’s probably not Trump supporters who would do that. Antifa, BLM, that’s what they do. Right?”What happened over the next 12 hours illustrated the speed and the scale of a right-wing disinformation machine primed to seize on a lie that served its political interests and quickly spread it as truth to a receptive audience. The weekslong fiction about a stolen election that President Donald J. Trump pushed to his millions of supporters had set the stage for a new and equally false iteration: that left-wing agitators were responsible for the attack on the Capitol.In fact, the rioters breaking into the citadel of American democracy that day were acolytes of Mr. Trump, intent on stopping Congress from certifying his electoral defeat. Subsequent arrests and investigations have found no evidence that people who identify with antifa, a loose collective of antifascist activists, were involved in the insurrection.But even as Americans watched live images of rioters wearing MAGA hats and carrying Trump flags breach the Capitol — egged on only minutes earlier by a president who falsely denounced a rigged election and exhorted his followers to fight for justice — history was being rewritten in real time.Within hours, a narrative built on rumors and partisan conjecture had reached the Twitter megaphones of pro-Trump politicians. By day’s end, Laura Ingraham and Sarah Palin had shared it with millions of Fox News viewers, and Representative Matt Gaetz of Florida had stood on the ransacked House floor and claimed that many rioters “were members of the violent terrorist group antifa.”Nearly two months after the attack, the claim that antifa was involved has been repeatedly debunked by federal authorities, but it has hardened into gospel among hard-line Trump supporters, by voters and sanctified by elected officials in the party. More than half of Trump voters in a Suffolk University/USA Today poll said that the riot was “mostly an antifa-inspired attack.” At Senate hearings last week focused on the security breakdown at the Capitol, Senator Ron Johnson, a Wisconsin Republican, repeated the falsehood that “fake Trump protesters” fomented the violence.For those who hoped Mr. Trump’s don’t-believe-your-eyes tactics might fade after his defeat, the mainstreaming of the antifa conspiracy is a sign that truth remains a fungible concept among his most ardent followers. Buoyed by a powerful right-wing media network that had just spent eight weeks advancing Mr. Trump’s baseless claims of voter fraud, pro-Trump Republicans have succeeded in warping their voters’ realities, exhibiting sheer gall as they seek to minimize a violent riot perpetrated by their own supporters.If anyone was responsible for desecrating the Capitol, Mr. Johnson said in a radio interview as the violence was unfolding that day, “I would really question whether that’s a true Trump supporter or a true conservative.”In a telephone interview last week, Mr. Johnson delivered a handful of unsubstantiated or false statements that dovetail with much of the right-wing disinformation about the riot circulating online and on conservative radio and television programs. The senator said that while most of the people arrested at the Capitol were right-wing Trump supporters, he had not reached any conclusions about the political affiliations of those responsible for planning it.He said he had “seen videos of other people claiming to be antifa” preparing in their hotel rooms.“I don’t know if any of that’s been verified,” Mr. Johnson added.\n",
      "\n",
      "\n",
      "Summarized text: \n",
      " \"antifa, BLM, that’s what they do. right?\" he wrote on twitter. rioters broke into the citadel of american democracy that day, intent on stopping congress from certifying his electoral defeat. but a narrative built on rumors and partisan conjecture had reached the Twitter megaphones of pro-Trump politicians.\n"
     ]
    }
   ],
   "source": [
    "preprocess_text = body.strip().replace(\"\\n\",\"\")\n",
    "t5_prepared_Text = \"summarize: \"+preprocess_text\n",
    "print (\"original text preprocessed: \\n\", preprocess_text)\n",
    "\n",
    "tokenized_text = tokenizer.encode(t5_prepared_Text, return_tensors=\"pt\").to(device)\n",
    "\n",
    "\n",
    "# summmarize \n",
    "summary_ids = model.generate(tokenized_text,\n",
    "                                    num_beams=4,\n",
    "                                    no_repeat_ngram_size=2,\n",
    "                                    min_length=30,\n",
    "                                    max_length=100,\n",
    "                                    early_stopping=True)\n",
    "\n",
    "output = tokenizer.decode(summary_ids[0], skip_special_tokens=True)\n",
    "\n",
    "print (\"\\n\\nSummarized text: \\n\",output)"
   ]
  },
  {
   "cell_type": "code",
   "execution_count": null,
   "metadata": {
    "id": "954JvZet_uxM"
   },
   "outputs": [],
   "source": []
  }
 ],
 "metadata": {
  "colab": {
   "name": "Copy of Untitled1.ipynb",
   "provenance": []
  },
  "kernelspec": {
   "display_name": "Python 3",
   "language": "python",
   "name": "python3"
  },
  "language_info": {
   "codemirror_mode": {
    "name": "ipython",
    "version": 3
   },
   "file_extension": ".py",
   "mimetype": "text/x-python",
   "name": "python",
   "nbconvert_exporter": "python",
   "pygments_lexer": "ipython3",
   "version": "3.8.2"
  }
 },
 "nbformat": 4,
 "nbformat_minor": 1
}
