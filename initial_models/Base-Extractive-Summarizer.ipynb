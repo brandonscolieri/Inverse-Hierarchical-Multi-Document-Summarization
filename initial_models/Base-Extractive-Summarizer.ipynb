{
 "cells": [
  {
   "cell_type": "code",
   "execution_count": null,
   "metadata": {
    "colab": {
     "base_uri": "https://localhost:8080/"
    },
    "id": "3yAjLM6s5QIP",
    "outputId": "be00013f-f2e7-4b00-fda8-cc38850c7aeb"
   },
   "outputs": [
    {
     "name": "stdout",
     "output_type": "stream",
     "text": [
      "Collecting bert-extractive-summarizer\n",
      "  Using cached https://files.pythonhosted.org/packages/1a/07/fdb05f9e18b6f641499ef56737126fbd2fafe1cdc1a04ba069d5aa205901/bert_extractive_summarizer-0.7.1-py3-none-any.whl\n",
      "Collecting spacy (from bert-extractive-summarizer)\n",
      "\u001b[?25l  Downloading https://files.pythonhosted.org/packages/65/01/fd65769520d4b146d92920170fd00e01e826cda39a366bde82a87ca249db/spacy-3.0.5.tar.gz (7.0MB)\n",
      "\u001b[K     |████████████████████████████████| 7.0MB 2.8MB/s eta 0:00:01\n",
      "\u001b[?25h  Installing build dependencies ... \u001b[?25lerror\n",
      "\u001b[31m  ERROR: Command errored out with exit status 1:\n",
      "   command: /Users/daphneyang/Desktop/5YMIDS_SP21/w266/266_final/venv/bin/python3 /Users/daphneyang/Desktop/5YMIDS_SP21/w266/266_final/venv/lib/python3.8/site-packages/pip install --ignore-installed --no-user --prefix /private/var/folders/j9/flmr1dy91bn0rrx6c2jkcfb40000gn/T/pip-build-env-0lfg5jdg/overlay --no-warn-script-location --no-binary :none: --only-binary :none: -i https://pypi.org/simple -- setuptools 'cython>=0.25' 'cymem>=2.0.2,<2.1.0' 'preshed>=3.0.2,<3.1.0' 'murmurhash>=0.28.0,<1.1.0' 'thinc>=8.0.2,<8.1.0' 'blis>=0.4.0,<0.8.0' pathy 'numpy>=1.15.0'\n",
      "       cwd: None\n",
      "  Complete output (66 lines):\n",
      "  Collecting setuptools\n",
      "    Using cached https://files.pythonhosted.org/packages/9e/d4/b99a960314121a003e9f39c61dfde01a1010bb47661e193a7722f7f32d52/setuptools-54.2.0-py3-none-any.whl\n",
      "  Collecting cython>=0.25\n",
      "    Downloading https://files.pythonhosted.org/packages/9e/98/bff39b3acaebbc6102be71797f655bbe60738f7339db4ad7bd0772c08daf/Cython-0.29.22-py2.py3-none-any.whl (980kB)\n",
      "  Collecting cymem<2.1.0,>=2.0.2\n",
      "    Downloading https://files.pythonhosted.org/packages/3e/fb/5899a59ee8d0f02202c1f02fe47671e0c93d1812b1deb2491505718473da/cymem-2.0.5.tar.gz\n",
      "    Installing build dependencies: started\n",
      "    Installing build dependencies: finished with status 'done'\n",
      "    Getting requirements to build wheel: started\n",
      "    Getting requirements to build wheel: finished with status 'done'\n",
      "    Installing backend dependencies: started\n",
      "    Installing backend dependencies: finished with status 'done'\n",
      "      Preparing wheel metadata: started\n",
      "      Preparing wheel metadata: finished with status 'done'\n",
      "  Collecting preshed<3.1.0,>=3.0.2\n",
      "    Downloading https://files.pythonhosted.org/packages/ee/87/cabd3dc3d7ebd9b62252faca25ec5f1fec627ea88ca7ffd2924d02e1516e/preshed-3.0.5.tar.gz\n",
      "    Installing build dependencies: started\n",
      "    Installing build dependencies: finished with status 'done'\n",
      "    Getting requirements to build wheel: started\n",
      "    Getting requirements to build wheel: finished with status 'done'\n",
      "    Installing backend dependencies: started\n",
      "    Installing backend dependencies: finished with status 'done'\n",
      "      Preparing wheel metadata: started\n",
      "      Preparing wheel metadata: finished with status 'done'\n",
      "  Collecting murmurhash<1.1.0,>=0.28.0\n",
      "    Using cached https://files.pythonhosted.org/packages/0c/f3/0b5e06ddea555caeba56fd71f007c84b4e5b9fc3155b228ba2014e81f2ce/murmurhash-1.0.5.tar.gz\n",
      "    Installing build dependencies: started\n",
      "    Installing build dependencies: finished with status 'done'\n",
      "    Getting requirements to build wheel: started\n",
      "    Getting requirements to build wheel: finished with status 'done'\n",
      "    Installing backend dependencies: started\n",
      "    Installing backend dependencies: finished with status 'done'\n",
      "      Preparing wheel metadata: started\n",
      "      Preparing wheel metadata: finished with status 'done'\n",
      "  Collecting thinc<8.1.0,>=8.0.2\n",
      "    Downloading https://files.pythonhosted.org/packages/62/0f/7142d6fd3282e7f9002c4d31547168c15696ac091024cb5a2f7bd32dc673/thinc-8.0.2.tar.gz (623kB)\n",
      "    Installing build dependencies: started\n",
      "    Installing build dependencies: still running...\n",
      "    Installing build dependencies: still running...\n",
      "    Installing build dependencies: still running...\n",
      "    Installing build dependencies: still running...\n",
      "    Installing build dependencies: still running...\n",
      "    Installing build dependencies: still running...\n",
      "    Installing build dependencies: still running...\n",
      "    Installing build dependencies: still running...\n",
      "    Installing build dependencies: still running...\n",
      "    Installing build dependencies: still running...\n",
      "    Installing build dependencies: finished with status 'done'\n",
      "    Getting requirements to build wheel: started\n",
      "    Getting requirements to build wheel: finished with status 'done'\n",
      "    Installing backend dependencies: started\n",
      "    Installing backend dependencies: finished with status 'done'\n",
      "      Preparing wheel metadata: started\n",
      "      Preparing wheel metadata: finished with status 'error'\n",
      "      ERROR: Command errored out with exit status 1:\n",
      "       command: /Users/daphneyang/Desktop/5YMIDS_SP21/w266/266_final/venv/bin/python3 /Users/daphneyang/Desktop/5YMIDS_SP21/w266/266_final/venv/lib/python3.8/site-packages/pip/_vendor/pep517/_in_process.py prepare_metadata_for_build_wheel /var/folders/j9/flmr1dy91bn0rrx6c2jkcfb40000gn/T/tmp10h9bzst\n",
      "           cwd: /private/var/folders/j9/flmr1dy91bn0rrx6c2jkcfb40000gn/T/pip-install-z4m88k09/thinc\n",
      "      Complete output (6 lines):\n",
      "      Traceback (most recent call last):\n",
      "        File \"/Users/daphneyang/Desktop/5YMIDS_SP21/w266/266_final/venv/lib/python3.8/site-packages/pip/_vendor/pep517/_in_process.py\", line 280, in <module>\n",
      "          main()\n",
      "        File \"/Users/daphneyang/Desktop/5YMIDS_SP21/w266/266_final/venv/lib/python3.8/site-packages/pip/_vendor/pep517/_in_process.py\", line 263, in main\n",
      "          json_out['return_val'] = hook(**hook_input['kwargs'])\n",
      "      TypeError: prepare_metadata_for_build_wheel() missing 1 required positional argument: '_allow_fallback'\n",
      "      ----------------------------------------\n",
      "  ERROR: Command errored out with exit status 1: /Users/daphneyang/Desktop/5YMIDS_SP21/w266/266_final/venv/bin/python3 /Users/daphneyang/Desktop/5YMIDS_SP21/w266/266_final/venv/lib/python3.8/site-packages/pip/_vendor/pep517/_in_process.py prepare_metadata_for_build_wheel /var/folders/j9/flmr1dy91bn0rrx6c2jkcfb40000gn/T/tmp10h9bzst Check the logs for full command output.\n",
      "  ----------------------------------------\u001b[0m\n",
      "\u001b[31mERROR: Command errored out with exit status 1: /Users/daphneyang/Desktop/5YMIDS_SP21/w266/266_final/venv/bin/python3 /Users/daphneyang/Desktop/5YMIDS_SP21/w266/266_final/venv/lib/python3.8/site-packages/pip install --ignore-installed --no-user --prefix /private/var/folders/j9/flmr1dy91bn0rrx6c2jkcfb40000gn/T/pip-build-env-0lfg5jdg/overlay --no-warn-script-location --no-binary :none: --only-binary :none: -i https://pypi.org/simple -- setuptools 'cython>=0.25' 'cymem>=2.0.2,<2.1.0' 'preshed>=3.0.2,<3.1.0' 'murmurhash>=0.28.0,<1.1.0' 'thinc>=8.0.2,<8.1.0' 'blis>=0.4.0,<0.8.0' pathy 'numpy>=1.15.0' Check the logs for full command output.\u001b[0m\n",
      "\u001b[?25hCollecting spacy==2.1.3\n",
      "  Using cached spacy-2.1.3.tar.gz (27.7 MB)\n",
      "  Installing build dependencies ... \u001b[?25l|"
     ]
    }
   ],
   "source": [
    "!pip install bert-extractive-summarizer\n",
    "!pip install spacy==2.1.3\n",
    "!pip install transformers==2.2.2\n",
    "!pip install neuralcoref\n",
    "!python -m spacy download en_core_web_md\n"
   ]
  },
  {
   "cell_type": "code",
   "execution_count": null,
   "metadata": {
    "id": "1hlGM2Tt6Aop"
   },
   "outputs": [],
   "source": [
    "from summarizer import Summarizer"
   ]
  },
  {
   "cell_type": "code",
   "execution_count": null,
   "metadata": {
    "colab": {
     "base_uri": "https://localhost:8080/"
    },
    "id": "5w7haePm6Hxg",
    "outputId": "ec81d393-5377-472e-c4dd-75454fb0f42d"
   },
   "outputs": [],
   "source": [
    "body = '''\n",
    "At 1:51 p.m. on Jan. 6, a right-wing radio host named Michael D. Brown wrote on Twitter that rioters had breached the United States Capitol — and immediately speculated about who was really to blame. “Antifa or BLM or other insurgents could be doing it disguised as Trump supporters,” Mr. Brown wrote, using shorthand for Black Lives Matter. “Come on, man, have you never heard of psyops?”\n",
    "Only 13,000 people follow Mr. Brown on Twitter, but his tweet caught the attention of another conservative pundit: Todd Herman, who was guest-hosting Rush Limbaugh’s national radio program. Minutes later, he repeated Mr. Brown’s baseless claim to Mr. Limbaugh’s throngs of listeners: “It’s probably not Trump supporters who would do that. Antifa, BLM, that’s what they do. Right?”\n",
    "What happened over the next 12 hours illustrated the speed and the scale of a right-wing disinformation machine primed to seize on a lie that served its political interests and quickly spread it as truth to a receptive audience. The weekslong fiction about a stolen election that President Donald J. Trump pushed to his millions of supporters had set the stage for a new and equally false iteration: that left-wing agitators were responsible for the attack on the Capitol.\n",
    "In fact, the rioters breaking into the citadel of American democracy that day were acolytes of Mr. Trump, intent on stopping Congress from certifying his electoral defeat. Subsequent arrests and investigations have found no evidence that people who identify with antifa, a loose collective of antifascist activists, were involved in the insurrection.\n",
    "But even as Americans watched live images of rioters wearing MAGA hats and carrying Trump flags breach the Capitol — egged on only minutes earlier by a president who falsely denounced a rigged election and exhorted his followers to fight for justice — history was being rewritten in real time.\n",
    "Within hours, a narrative built on rumors and partisan conjecture had reached the Twitter megaphones of pro-Trump politicians. By day’s end, Laura Ingraham and Sarah Palin had shared it with millions of Fox News viewers, and Representative Matt Gaetz of Florida had stood on the ransacked House floor and claimed that many rioters “were members of the violent terrorist group antifa.”\n",
    "Nearly two months after the attack, the claim that antifa was involved has been repeatedly debunked by federal authorities, but it has hardened into gospel among hard-line Trump supporters, by voters and sanctified by elected officials in the party. More than half of Trump voters in a Suffolk University/USA Today poll said that the riot was “mostly an antifa-inspired attack.” At Senate hearings last week focused on the security breakdown at the Capitol, Senator Ron Johnson, a Wisconsin Republican, repeated the falsehood that “fake Trump protesters” fomented the violence.\n",
    "For those who hoped Mr. Trump’s don’t-believe-your-eyes tactics might fade after his defeat, the mainstreaming of the antifa conspiracy is a sign that truth remains a fungible concept among his most ardent followers. Buoyed by a powerful right-wing media network that had just spent eight weeks advancing Mr. Trump’s baseless claims of voter fraud, pro-Trump Republicans have succeeded in warping their voters’ realities, exhibiting sheer gall as they seek to minimize a violent riot perpetrated by their own supporters.\n",
    "If anyone was responsible for desecrating the Capitol, Mr. Johnson said in a radio interview as the violence was unfolding that day, “I would really question whether that’s a true Trump supporter or a true conservative.”\n",
    "In a telephone interview last week, Mr. Johnson delivered a handful of unsubstantiated or false statements that dovetail with much of the right-wing disinformation about the riot circulating online and on conservative radio and television programs. The senator said that while most of the people arrested at the Capitol were right-wing Trump supporters, he had not reached any conclusions about the political affiliations of those responsible for planning it.\n",
    "He said he had “seen videos of other people claiming to be antifa” preparing in their hotel rooms.\n",
    "“I don’t know if any of that’s been verified,” Mr. Johnson added.\n",
    "'''\n",
    "\n",
    "model = Summarizer()\n",
    "result = model(body, min_length=30)\n",
    "full = ''.join(result)\n",
    "print(full)"
   ]
  },
  {
   "cell_type": "code",
   "execution_count": null,
   "metadata": {
    "colab": {
     "base_uri": "https://localhost:8080/",
     "height": 88
    },
    "id": "yUN_oz0r8wkc",
    "outputId": "2c067dcc-abec-41d6-a80b-fbaff1706a4c"
   },
   "outputs": [],
   "source": [
    "result"
   ]
  },
  {
   "cell_type": "code",
   "execution_count": null,
   "metadata": {},
   "outputs": [],
   "source": []
  }
 ],
 "metadata": {
  "colab": {
   "name": "Copy of Untitled1.ipynb",
   "provenance": []
  },
  "kernelspec": {
   "display_name": "Python 3",
   "language": "python",
   "name": "python3"
  },
  "language_info": {
   "codemirror_mode": {
    "name": "ipython",
    "version": 3
   },
   "file_extension": ".py",
   "mimetype": "text/x-python",
   "name": "python",
   "nbconvert_exporter": "python",
   "pygments_lexer": "ipython3",
   "version": "3.8.2"
  }
 },
 "nbformat": 4,
 "nbformat_minor": 1
}
